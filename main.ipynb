{
 "cells": [
  {
   "cell_type": "markdown",
   "metadata": {},
   "source": [
    "# Logistic regression on Diabetes Health Indicators"
   ]
  },
  {
   "cell_type": "markdown",
   "metadata": {},
   "source": [
    "## Background\n",
    "The dataset is downloaded from [UCI Machine Learning Repository](https://archive.ics.uci.edu/dataset/891/cdc+diabetes+health+indicators) . It consists of the following columns:\n",
    "1. `Diabetes_binary`: *(Binary)* 0 = no diabetes; 1 = pre-diabetes or diabetes \n",
    "2. `HighBP`: *(Binary)* 0 = no high BP; 1 = high BP \n",
    "3. `HighChol`: *(Binary)* 0 = no high cholesterol; 1 = high cholesterol \n",
    "4. `CholCheck`: *(Binary)* 0 = no cholesterol check in 5 years; 1 = yes cholesterol check in 5 years \n",
    "5. `BMI`: *(Integer)* Body Mass Index \n",
    "6. `Smoker`: *(Binary)* Have you smoked at least 100 cigarettes in your entire life? \\[Note: 5 packs = 100 cigarettes\\] 0 = no; 1 = yes \n",
    "7. `Stroke`: *(Binary)* (Ever told) you had a stroke. 0 = no; 1 = yes \n",
    "8. `HeartDiseaseorAttack`: *(Binary)* coronary heart disease (CHD) or myocardial infarction (MI) 0 = no; 1 = yes \n",
    "9. `PhysActivity`: *(Binary)* physical activity in past 30 days - not including job 0 = no; 1 = yes \n",
    "10. `Fruits`: *(Binary)* Consume Fruit 1 or more times per day 0 = no; 1 = yes \n",
    "11. `Veggies`: *(Binary)* Consume Vegetables 1 or more times per day 0 = no; 1 = yes \n",
    "12. `HvyAlcoholConsump`: *(Binary)* Heavy drinkers (adult men having more than 14 drinks per week and adult women having more than 7 drinks per week) 0 = no; 1 = yes \n",
    "13. `AnyHealthcare`: *(Binary)* Have any kind of health care coverage, including health insurance, prepaid plans such as HMO, etc. 0 = no; 1 = yes \n",
    "14. `NoDocbcCost`: *(Binary)* Was there a time in the past 12 months when you needed to see a doctor but could not because of cost? 0 = no; 1 = yes \n",
    "15. `GenHlth`: *(Integer)* Would you say that in general your health is (scale 1-5): 1 = excellent; 2 = very good; 3 = good; 4 = fair; 5 = poor \n",
    "16. `MentHlth`: *(Integer)* Now thinking about your mental health, which includes stress, depression, and problems with emotions, for how many days during the past 30 days was your mental health not good? scale 1-30 days \n",
    "17. `PhysHlth`: *(Integer)* Now thinking about your physical health, which includes physical illness and injury, for how many days during the past 30 days was your physical health not good? scale 1-30 days \n",
    "18. `DiffWalk`: *(Binary)* Do you have serious difficulty walking or climbing stairs? 0 = no; 1 = yes \n",
    "19. `Sex`: *(Binary)* Sex 0 = female; 1 = male \n",
    "20. `Age`: *(Integer)* Age. 13-level age category (AGEG5YR see codebook) 1 = 18-24; 2 = 25-29; ...; 13 = 80 or older \n",
    "21. `Education`: *(Integer)* Education Level. Education level (EDUCA see codebook) (scale 1-6) 1 = Never attended school or only kindergarten; 2 = Grades 1 through 8 (Elementary); 3 = Grades 9 through 11 (Some high school); 4 = Grade 12 or GED (High school graduate); 5 = College 1 year to 3 years (Some college or technical school); 6 = College 4 years or more (College graduate) \n",
    "22. `Income`: *(Integer)* Income. Income scale (INCOME2 see codebook) (scale 1-8) 1 = less than \\\\$10,000; 2 = \\\\$10,000 to less than \\\\$15,000;...; 8 = \\\\$75,000 or more\n",
    "\n",
    "The schema can be download from [Centers for Disease Control and Prevention (CDC)](https://www.cdc.gov/brfss/annual_data/2015/pdf/codebook15_llcp.pdf)"
   ]
  },
  {
   "cell_type": "markdown",
   "metadata": {},
   "source": [
    "## Analysis"
   ]
  },
  {
   "cell_type": "code",
   "execution_count": 2,
   "metadata": {
    "vscode": {
     "languageId": "r"
    }
   },
   "outputs": [],
   "source": [
    "library(glm2)\n",
    "library(ggplot2)\n",
    "library(forcats)\n",
    "library(dplyr)\n",
    "library(purrr)\n",
    "library(tidyr)\n",
    "library(caret)\n",
    "library(lmtest)\n",
    "library(pROC)\n",
    "library(MASS)"
   ]
  },
  {
   "cell_type": "code",
   "execution_count": 3,
   "metadata": {
    "vscode": {
     "languageId": "r"
    }
   },
   "outputs": [],
   "source": [
    "chi_square_test <- function(df, x, y) {\n",
    "  vector1 <- df[[x]]\n",
    "  vector2 <- df[[y]]\n",
    "  return(chisq.test(vector1, vector2,\n",
    "                    correct = FALSE)$p.value)\n",
    "}\n",
    "t_test <- function(df, x, group) {\n",
    "  t_test_result <- t.test(df[[x]] ~ df[[group]])\n",
    "  print(t_test_result)\n",
    "}\n",
    "quite_chisquare <- quietly(chi_square_test)\n",
    "quite_t <- quietly(t_test)"
   ]
  },
  {
   "cell_type": "code",
   "execution_count": 4,
   "metadata": {
    "vscode": {
     "languageId": "r"
    }
   },
   "outputs": [],
   "source": [
    "df0 <- read.csv(\"diabetes_binary_5050split_health_indicators_BRFSS2015.csv\")"
   ]
  },
  {
   "cell_type": "markdown",
   "metadata": {},
   "source": [
    "### Data mapping"
   ]
  },
  {
   "cell_type": "code",
   "execution_count": 5,
   "metadata": {
    "vscode": {
     "languageId": "r"
    }
   },
   "outputs": [],
   "source": [
    "columns_to_factor <- c(\"Diabetes_binary\", \"HighBP\", \"HighChol\",\n",
    "                       \"CholCheck\", \"Smoker\", \"Stroke\",\n",
    "                       \"HeartDiseaseorAttack\", \"PhysActivity\",\n",
    "                       \"Fruits\", \"Veggies\", \"HvyAlcoholConsump\",\n",
    "                       \"AnyHealthcare\", \"NoDocbcCost\", \"GenHlth\",\n",
    "                       \"DiffWalk\", \"Sex\", \"Age\", \"Education\",\n",
    "                       \"Income\")\n",
    "genhlth_mapping <- c(\"Excellent\" = \"1\",\n",
    "                      \"Very Good\" = \"2\",\n",
    "                      \"Good\" = \"3\",\n",
    "                      \"Fair\" = \"4\",\n",
    "                      \"Poor\" = \"5\")\n",
    "agegp_mapping <- c(\"18-24\" = \"1\", \"25-29\" = \"2\", \"30-34\" = \"3\",\n",
    "                   \"35-39\" = \"4\", \"40-44\" = \"5\", \"45-49\" = \"6\",\n",
    "                   \"50-54\" = \"7\", \"55-59\" = \"8\", \"60-64\" = \"9\",\n",
    "                   \"65-69\" = \"10\", \"70-74\" = \"11\", \"75-79\" = \"12\",\n",
    "                   \"80 or older\" = \"13\")\n",
    "edu_mapping <- c(\"Never attended school or only kindergarten\" = \"1\",\n",
    "                 \"Elementary\" = \"2\",\n",
    "                 \"Some high school\" = \"3\",\n",
    "                 \"High school graduate\" = \"4\",\n",
    "                 \"Some college or technical school\" = \"5\",\n",
    "                 \"College graduate\" = \"6\")\n",
    "income_mapping <- c(\"Less than $10,000\" = \"1\",\n",
    "                    \"$10,000 to less than $15,000\" = \"2\",\n",
    "                    \"$15,000 to less than $20,000\" = \"3\",\n",
    "                    \"$20,000 to less than $25,000\" = \"4\",\n",
    "                    \"$25,000 to less than $35,000\" = \"5\",\n",
    "                    \"$35,000 to less than $50,000\" = \"6\",\n",
    "                    \"$50,000 to less than $75,000\" = \"7\",\n",
    "                    \"$75,000 or more\" = \"8\")"
   ]
  },
  {
   "cell_type": "code",
   "execution_count": 6,
   "metadata": {
    "vscode": {
     "languageId": "r"
    }
   },
   "outputs": [],
   "source": [
    "df0 <- df0 %>%\n",
    "  mutate(across(all_of(columns_to_factor), factor)) %>%\n",
    "  mutate(GenHlth = fct_recode(GenHlth, !!!genhlth_mapping)) %>%\n",
    "  mutate(Age = fct_recode(Age, !!!agegp_mapping)) %>%\n",
    "  mutate(Education = fct_recode(Education, !!!edu_mapping)) %>%\n",
    "  mutate(Income = fct_recode(Income, !!!income_mapping))\n",
    "rm(genhlth_mapping, agegp_mapping,\n",
    "   edu_mapping, income_mapping, columns_to_factor)"
   ]
  },
  {
   "cell_type": "code",
   "execution_count": 7,
   "metadata": {
    "vscode": {
     "languageId": "r"
    }
   },
   "outputs": [],
   "source": [
    "target <- \"Diabetes_binary\"\n",
    "var_continuous <- names(df0)[sapply(df0, is.numeric)]\n",
    "var_discrete <- setdiff(colnames(df0), c(var_continuous, target))"
   ]
  },
  {
   "cell_type": "markdown",
   "metadata": {},
   "source": [
    "### Data checking"
   ]
  },
  {
   "cell_type": "code",
   "execution_count": 8,
   "metadata": {
    "vscode": {
     "languageId": "r"
    }
   },
   "outputs": [
    {
     "data": {
      "text/plain": [
       "\n",
       "    0     1 \n",
       "35346 35346 "
      ]
     },
     "metadata": {},
     "output_type": "display_data"
    }
   ],
   "source": [
    "table(df0[[target]])"
   ]
  },
  {
   "cell_type": "markdown",
   "metadata": {},
   "source": [
    "* The dataset is balanced"
   ]
  },
  {
   "cell_type": "markdown",
   "metadata": {},
   "source": [
    "### Data exploration"
   ]
  },
  {
   "cell_type": "markdown",
   "metadata": {},
   "source": [
    "#### By feature"
   ]
  },
  {
   "cell_type": "markdown",
   "metadata": {},
   "source": [
    "##### Cross tabulation"
   ]
  },
  {
   "cell_type": "code",
   "execution_count": 11,
   "metadata": {
    "vscode": {
     "languageId": "r"
    }
   },
   "outputs": [
    {
     "data": {
      "text/html": [
       "<table class=\"dataframe\">\n",
       "<caption>A data.frame: 60 x 6</caption>\n",
       "<thead>\n",
       "\t<tr><th scope=col>var</th><th scope=col>level</th><th scope=col>n_0</th><th scope=col>n_1</th><th scope=col>percent_0</th><th scope=col>percent_1</th></tr>\n",
       "\t<tr><th scope=col>&lt;chr&gt;</th><th scope=col>&lt;fct&gt;</th><th scope=col>&lt;int&gt;</th><th scope=col>&lt;int&gt;</th><th scope=col>&lt;dbl&gt;</th><th scope=col>&lt;dbl&gt;</th></tr>\n",
       "</thead>\n",
       "<tbody>\n",
       "\t<tr><td>HighBP              </td><td>0                                         </td><td>22118</td><td> 8742</td><td>71.67207</td><td>28.327933</td></tr>\n",
       "\t<tr><td>HighBP              </td><td>1                                         </td><td>13228</td><td>26604</td><td>33.20948</td><td>66.790520</td></tr>\n",
       "\t<tr><td>HighChol            </td><td>0                                         </td><td>21869</td><td>11660</td><td>65.22413</td><td>34.775866</td></tr>\n",
       "\t<tr><td>HighChol            </td><td>1                                         </td><td>13477</td><td>23686</td><td>36.26456</td><td>63.735436</td></tr>\n",
       "\t<tr><td>CholCheck           </td><td>0                                         </td><td> 1508</td><td>  241</td><td>86.22070</td><td>13.779302</td></tr>\n",
       "\t<tr><td>CholCheck           </td><td>1                                         </td><td>33838</td><td>35105</td><td>49.08112</td><td>50.918875</td></tr>\n",
       "\t<tr><td>Smoker              </td><td>0                                         </td><td>20065</td><td>17029</td><td>54.09231</td><td>45.907694</td></tr>\n",
       "\t<tr><td>Smoker              </td><td>1                                         </td><td>15281</td><td>18317</td><td>45.48187</td><td>54.518126</td></tr>\n",
       "\t<tr><td>Stroke              </td><td>0                                         </td><td>34219</td><td>32078</td><td>51.61470</td><td>48.385296</td></tr>\n",
       "\t<tr><td>Stroke              </td><td>1                                         </td><td> 1127</td><td> 3268</td><td>25.64278</td><td>74.357224</td></tr>\n",
       "\t<tr><td>HeartDiseaseorAttack</td><td>0                                         </td><td>32775</td><td>27468</td><td>54.40466</td><td>45.595339</td></tr>\n",
       "\t<tr><td>HeartDiseaseorAttack</td><td>1                                         </td><td> 2571</td><td> 7878</td><td>24.60523</td><td>75.394775</td></tr>\n",
       "\t<tr><td>PhysActivity        </td><td>0                                         </td><td> 7934</td><td>13059</td><td>37.79355</td><td>62.206450</td></tr>\n",
       "\t<tr><td>PhysActivity        </td><td>1                                         </td><td>27412</td><td>22287</td><td>55.15604</td><td>44.843961</td></tr>\n",
       "\t<tr><td>Fruits              </td><td>0                                         </td><td>12790</td><td>14653</td><td>46.60569</td><td>53.394308</td></tr>\n",
       "\t<tr><td>Fruits              </td><td>1                                         </td><td>22556</td><td>20693</td><td>52.15381</td><td>47.846193</td></tr>\n",
       "\t<tr><td>Veggies             </td><td>0                                         </td><td> 6322</td><td> 8610</td><td>42.33860</td><td>57.661398</td></tr>\n",
       "\t<tr><td>Veggies             </td><td>1                                         </td><td>29024</td><td>26736</td><td>52.05165</td><td>47.948350</td></tr>\n",
       "\t<tr><td>HvyAlcoholConsump   </td><td>0                                         </td><td>33158</td><td>34514</td><td>48.99811</td><td>51.001891</td></tr>\n",
       "\t<tr><td>HvyAlcoholConsump   </td><td>1                                         </td><td> 2188</td><td>  832</td><td>72.45033</td><td>27.549669</td></tr>\n",
       "\t<tr><td>AnyHealthcare       </td><td>0                                         </td><td> 1762</td><td> 1422</td><td>55.33920</td><td>44.660804</td></tr>\n",
       "\t<tr><td>AnyHealthcare       </td><td>1                                         </td><td>33584</td><td>33924</td><td>49.74818</td><td>50.251822</td></tr>\n",
       "\t<tr><td>NoDocbcCost         </td><td>0                                         </td><td>32449</td><td>31604</td><td>50.65961</td><td>49.340390</td></tr>\n",
       "\t<tr><td>NoDocbcCost         </td><td>1                                         </td><td> 2897</td><td> 3742</td><td>43.63609</td><td>56.363910</td></tr>\n",
       "\t<tr><td>GenHlth             </td><td>Excellent                                 </td><td> 7142</td><td> 1140</td><td>86.23521</td><td>13.764791</td></tr>\n",
       "\t<tr><td>GenHlth             </td><td>Very Good                                 </td><td>13491</td><td> 6381</td><td>67.88949</td><td>32.110507</td></tr>\n",
       "\t<tr><td>GenHlth             </td><td>Good                                      </td><td> 9970</td><td>13457</td><td>42.55773</td><td>57.442267</td></tr>\n",
       "\t<tr><td>GenHlth             </td><td>Fair                                      </td><td> 3513</td><td> 9790</td><td>26.40758</td><td>73.592423</td></tr>\n",
       "\t<tr><td>GenHlth             </td><td>Poor                                      </td><td> 1230</td><td> 4578</td><td>21.17769</td><td>78.822314</td></tr>\n",
       "\t<tr><td>DiffWalk            </td><td>0                                         </td><td>30601</td><td>22225</td><td>57.92791</td><td>42.072086</td></tr>\n",
       "\t<tr><td>DiffWalk            </td><td>1                                         </td><td> 4745</td><td>13121</td><td>26.55883</td><td>73.441173</td></tr>\n",
       "\t<tr><td>Sex                 </td><td>0                                         </td><td>19975</td><td>18411</td><td>52.03720</td><td>47.962799</td></tr>\n",
       "\t<tr><td>Sex                 </td><td>1                                         </td><td>15371</td><td>16935</td><td>47.57940</td><td>52.420603</td></tr>\n",
       "\t<tr><td>Age                 </td><td>18-24                                     </td><td>  901</td><td>   78</td><td>92.03269</td><td> 7.967314</td></tr>\n",
       "\t<tr><td>Age                 </td><td>25-29                                     </td><td> 1256</td><td>  140</td><td>89.97135</td><td>10.028653</td></tr>\n",
       "\t<tr><td>Age                 </td><td>30-34                                     </td><td> 1735</td><td>  314</td><td>84.67545</td><td>15.324549</td></tr>\n",
       "\t<tr><td>Age                 </td><td>35-39                                     </td><td> 2167</td><td>  626</td><td>77.58682</td><td>22.413176</td></tr>\n",
       "\t<tr><td>Age                 </td><td>40-44                                     </td><td> 2469</td><td> 1051</td><td>70.14205</td><td>29.857955</td></tr>\n",
       "\t<tr><td>Age                 </td><td>45-49                                     </td><td> 2906</td><td> 1742</td><td>62.52151</td><td>37.478485</td></tr>\n",
       "\t<tr><td>Age                 </td><td>50-54                                     </td><td> 3784</td><td> 3088</td><td>55.06403</td><td>44.935972</td></tr>\n",
       "\t<tr><td>Age                 </td><td>55-59                                     </td><td> 4340</td><td> 4263</td><td>50.44752</td><td>49.552482</td></tr>\n",
       "\t<tr><td>Age                 </td><td>60-64                                     </td><td> 4379</td><td> 5733</td><td>43.30498</td><td>56.695016</td></tr>\n",
       "\t<tr><td>Age                 </td><td>65-69                                     </td><td> 4298</td><td> 6558</td><td>39.59101</td><td>60.408990</td></tr>\n",
       "\t<tr><td>Age                 </td><td>70-74                                     </td><td> 2903</td><td> 5141</td><td>36.08901</td><td>63.910990</td></tr>\n",
       "\t<tr><td>Age                 </td><td>75-79                                     </td><td> 1991</td><td> 3403</td><td>36.91138</td><td>63.088617</td></tr>\n",
       "\t<tr><td>Age                 </td><td>80 or older                               </td><td> 2217</td><td> 3209</td><td>40.85883</td><td>59.141172</td></tr>\n",
       "\t<tr><td>Education           </td><td>Never attended school or only kindergarten</td><td>   28</td><td>   47</td><td>37.33333</td><td>62.666667</td></tr>\n",
       "\t<tr><td>Education           </td><td>Elementary                                </td><td>  464</td><td> 1183</td><td>28.17243</td><td>71.827565</td></tr>\n",
       "\t<tr><td>Education           </td><td>Some high school                          </td><td> 1151</td><td> 2296</td><td>33.39135</td><td>66.608645</td></tr>\n",
       "\t<tr><td>Education           </td><td>High school graduate                      </td><td> 8407</td><td>11066</td><td>43.17260</td><td>56.827402</td></tr>\n",
       "\t<tr><td>Education           </td><td>Some college or technical school          </td><td> 9676</td><td>10354</td><td>48.30754</td><td>51.692461</td></tr>\n",
       "\t<tr><td>Education           </td><td>College graduate                          </td><td>15620</td><td>10400</td><td>60.03075</td><td>39.969254</td></tr>\n",
       "\t<tr><td>Income              </td><td>Less than $10,000                         </td><td> 1228</td><td> 2383</td><td>34.00720</td><td>65.992800</td></tr>\n",
       "\t<tr><td>Income              </td><td>$10,000 to less than $15,000              </td><td> 1412</td><td> 3086</td><td>31.39173</td><td>68.608270</td></tr>\n",
       "\t<tr><td>Income              </td><td>$15,000 to less than $20,000              </td><td> 1989</td><td> 3568</td><td>35.79269</td><td>64.207306</td></tr>\n",
       "\t<tr><td>Income              </td><td>$20,000 to less than $25,000              </td><td> 2604</td><td> 4054</td><td>39.11084</td><td>60.889156</td></tr>\n",
       "\t<tr><td>Income              </td><td>$25,000 to less than $35,000              </td><td> 3506</td><td> 4504</td><td>43.77029</td><td>56.229713</td></tr>\n",
       "\t<tr><td>Income              </td><td>$35,000 to less than $50,000              </td><td> 4996</td><td> 5291</td><td>48.56615</td><td>51.433849</td></tr>\n",
       "\t<tr><td>Income              </td><td>$50,000 to less than $75,000              </td><td> 6160</td><td> 5265</td><td>53.91685</td><td>46.083151</td></tr>\n",
       "\t<tr><td>Income              </td><td>$75,000 or more                           </td><td>13451</td><td> 7195</td><td>65.15063</td><td>34.849365</td></tr>\n",
       "</tbody>\n",
       "</table>\n"
      ],
      "text/latex": [
       "A data.frame: 60 x 6\n",
       "\\begin{tabular}{llllll}\n",
       " var & level & n\\_0 & n\\_1 & percent\\_0 & percent\\_1\\\\\n",
       " <chr> & <fct> & <int> & <int> & <dbl> & <dbl>\\\\\n",
       "\\hline\n",
       "\t HighBP               & 0                                          & 22118 &  8742 & 71.67207 & 28.327933\\\\\n",
       "\t HighBP               & 1                                          & 13228 & 26604 & 33.20948 & 66.790520\\\\\n",
       "\t HighChol             & 0                                          & 21869 & 11660 & 65.22413 & 34.775866\\\\\n",
       "\t HighChol             & 1                                          & 13477 & 23686 & 36.26456 & 63.735436\\\\\n",
       "\t CholCheck            & 0                                          &  1508 &   241 & 86.22070 & 13.779302\\\\\n",
       "\t CholCheck            & 1                                          & 33838 & 35105 & 49.08112 & 50.918875\\\\\n",
       "\t Smoker               & 0                                          & 20065 & 17029 & 54.09231 & 45.907694\\\\\n",
       "\t Smoker               & 1                                          & 15281 & 18317 & 45.48187 & 54.518126\\\\\n",
       "\t Stroke               & 0                                          & 34219 & 32078 & 51.61470 & 48.385296\\\\\n",
       "\t Stroke               & 1                                          &  1127 &  3268 & 25.64278 & 74.357224\\\\\n",
       "\t HeartDiseaseorAttack & 0                                          & 32775 & 27468 & 54.40466 & 45.595339\\\\\n",
       "\t HeartDiseaseorAttack & 1                                          &  2571 &  7878 & 24.60523 & 75.394775\\\\\n",
       "\t PhysActivity         & 0                                          &  7934 & 13059 & 37.79355 & 62.206450\\\\\n",
       "\t PhysActivity         & 1                                          & 27412 & 22287 & 55.15604 & 44.843961\\\\\n",
       "\t Fruits               & 0                                          & 12790 & 14653 & 46.60569 & 53.394308\\\\\n",
       "\t Fruits               & 1                                          & 22556 & 20693 & 52.15381 & 47.846193\\\\\n",
       "\t Veggies              & 0                                          &  6322 &  8610 & 42.33860 & 57.661398\\\\\n",
       "\t Veggies              & 1                                          & 29024 & 26736 & 52.05165 & 47.948350\\\\\n",
       "\t HvyAlcoholConsump    & 0                                          & 33158 & 34514 & 48.99811 & 51.001891\\\\\n",
       "\t HvyAlcoholConsump    & 1                                          &  2188 &   832 & 72.45033 & 27.549669\\\\\n",
       "\t AnyHealthcare        & 0                                          &  1762 &  1422 & 55.33920 & 44.660804\\\\\n",
       "\t AnyHealthcare        & 1                                          & 33584 & 33924 & 49.74818 & 50.251822\\\\\n",
       "\t NoDocbcCost          & 0                                          & 32449 & 31604 & 50.65961 & 49.340390\\\\\n",
       "\t NoDocbcCost          & 1                                          &  2897 &  3742 & 43.63609 & 56.363910\\\\\n",
       "\t GenHlth              & Excellent                                  &  7142 &  1140 & 86.23521 & 13.764791\\\\\n",
       "\t GenHlth              & Very Good                                  & 13491 &  6381 & 67.88949 & 32.110507\\\\\n",
       "\t GenHlth              & Good                                       &  9970 & 13457 & 42.55773 & 57.442267\\\\\n",
       "\t GenHlth              & Fair                                       &  3513 &  9790 & 26.40758 & 73.592423\\\\\n",
       "\t GenHlth              & Poor                                       &  1230 &  4578 & 21.17769 & 78.822314\\\\\n",
       "\t DiffWalk             & 0                                          & 30601 & 22225 & 57.92791 & 42.072086\\\\\n",
       "\t DiffWalk             & 1                                          &  4745 & 13121 & 26.55883 & 73.441173\\\\\n",
       "\t Sex                  & 0                                          & 19975 & 18411 & 52.03720 & 47.962799\\\\\n",
       "\t Sex                  & 1                                          & 15371 & 16935 & 47.57940 & 52.420603\\\\\n",
       "\t Age                  & 18-24                                      &   901 &    78 & 92.03269 &  7.967314\\\\\n",
       "\t Age                  & 25-29                                      &  1256 &   140 & 89.97135 & 10.028653\\\\\n",
       "\t Age                  & 30-34                                      &  1735 &   314 & 84.67545 & 15.324549\\\\\n",
       "\t Age                  & 35-39                                      &  2167 &   626 & 77.58682 & 22.413176\\\\\n",
       "\t Age                  & 40-44                                      &  2469 &  1051 & 70.14205 & 29.857955\\\\\n",
       "\t Age                  & 45-49                                      &  2906 &  1742 & 62.52151 & 37.478485\\\\\n",
       "\t Age                  & 50-54                                      &  3784 &  3088 & 55.06403 & 44.935972\\\\\n",
       "\t Age                  & 55-59                                      &  4340 &  4263 & 50.44752 & 49.552482\\\\\n",
       "\t Age                  & 60-64                                      &  4379 &  5733 & 43.30498 & 56.695016\\\\\n",
       "\t Age                  & 65-69                                      &  4298 &  6558 & 39.59101 & 60.408990\\\\\n",
       "\t Age                  & 70-74                                      &  2903 &  5141 & 36.08901 & 63.910990\\\\\n",
       "\t Age                  & 75-79                                      &  1991 &  3403 & 36.91138 & 63.088617\\\\\n",
       "\t Age                  & 80 or older                                &  2217 &  3209 & 40.85883 & 59.141172\\\\\n",
       "\t Education            & Never attended school or only kindergarten &    28 &    47 & 37.33333 & 62.666667\\\\\n",
       "\t Education            & Elementary                                 &   464 &  1183 & 28.17243 & 71.827565\\\\\n",
       "\t Education            & Some high school                           &  1151 &  2296 & 33.39135 & 66.608645\\\\\n",
       "\t Education            & High school graduate                       &  8407 & 11066 & 43.17260 & 56.827402\\\\\n",
       "\t Education            & Some college or technical school           &  9676 & 10354 & 48.30754 & 51.692461\\\\\n",
       "\t Education            & College graduate                           & 15620 & 10400 & 60.03075 & 39.969254\\\\\n",
       "\t Income               & Less than \\$10,000                          &  1228 &  2383 & 34.00720 & 65.992800\\\\\n",
       "\t Income               & \\$10,000 to less than \\$15,000               &  1412 &  3086 & 31.39173 & 68.608270\\\\\n",
       "\t Income               & \\$15,000 to less than \\$20,000               &  1989 &  3568 & 35.79269 & 64.207306\\\\\n",
       "\t Income               & \\$20,000 to less than \\$25,000               &  2604 &  4054 & 39.11084 & 60.889156\\\\\n",
       "\t Income               & \\$25,000 to less than \\$35,000               &  3506 &  4504 & 43.77029 & 56.229713\\\\\n",
       "\t Income               & \\$35,000 to less than \\$50,000               &  4996 &  5291 & 48.56615 & 51.433849\\\\\n",
       "\t Income               & \\$50,000 to less than \\$75,000               &  6160 &  5265 & 53.91685 & 46.083151\\\\\n",
       "\t Income               & \\$75,000 or more                            & 13451 &  7195 & 65.15063 & 34.849365\\\\\n",
       "\\end{tabular}\n"
      ],
      "text/markdown": [
       "\n",
       "A data.frame: 60 x 6\n",
       "\n",
       "| var &lt;chr&gt; | level &lt;fct&gt; | n_0 &lt;int&gt; | n_1 &lt;int&gt; | percent_0 &lt;dbl&gt; | percent_1 &lt;dbl&gt; |\n",
       "|---|---|---|---|---|---|\n",
       "| HighBP               | 0                                          | 22118 |  8742 | 71.67207 | 28.327933 |\n",
       "| HighBP               | 1                                          | 13228 | 26604 | 33.20948 | 66.790520 |\n",
       "| HighChol             | 0                                          | 21869 | 11660 | 65.22413 | 34.775866 |\n",
       "| HighChol             | 1                                          | 13477 | 23686 | 36.26456 | 63.735436 |\n",
       "| CholCheck            | 0                                          |  1508 |   241 | 86.22070 | 13.779302 |\n",
       "| CholCheck            | 1                                          | 33838 | 35105 | 49.08112 | 50.918875 |\n",
       "| Smoker               | 0                                          | 20065 | 17029 | 54.09231 | 45.907694 |\n",
       "| Smoker               | 1                                          | 15281 | 18317 | 45.48187 | 54.518126 |\n",
       "| Stroke               | 0                                          | 34219 | 32078 | 51.61470 | 48.385296 |\n",
       "| Stroke               | 1                                          |  1127 |  3268 | 25.64278 | 74.357224 |\n",
       "| HeartDiseaseorAttack | 0                                          | 32775 | 27468 | 54.40466 | 45.595339 |\n",
       "| HeartDiseaseorAttack | 1                                          |  2571 |  7878 | 24.60523 | 75.394775 |\n",
       "| PhysActivity         | 0                                          |  7934 | 13059 | 37.79355 | 62.206450 |\n",
       "| PhysActivity         | 1                                          | 27412 | 22287 | 55.15604 | 44.843961 |\n",
       "| Fruits               | 0                                          | 12790 | 14653 | 46.60569 | 53.394308 |\n",
       "| Fruits               | 1                                          | 22556 | 20693 | 52.15381 | 47.846193 |\n",
       "| Veggies              | 0                                          |  6322 |  8610 | 42.33860 | 57.661398 |\n",
       "| Veggies              | 1                                          | 29024 | 26736 | 52.05165 | 47.948350 |\n",
       "| HvyAlcoholConsump    | 0                                          | 33158 | 34514 | 48.99811 | 51.001891 |\n",
       "| HvyAlcoholConsump    | 1                                          |  2188 |   832 | 72.45033 | 27.549669 |\n",
       "| AnyHealthcare        | 0                                          |  1762 |  1422 | 55.33920 | 44.660804 |\n",
       "| AnyHealthcare        | 1                                          | 33584 | 33924 | 49.74818 | 50.251822 |\n",
       "| NoDocbcCost          | 0                                          | 32449 | 31604 | 50.65961 | 49.340390 |\n",
       "| NoDocbcCost          | 1                                          |  2897 |  3742 | 43.63609 | 56.363910 |\n",
       "| GenHlth              | Excellent                                  |  7142 |  1140 | 86.23521 | 13.764791 |\n",
       "| GenHlth              | Very Good                                  | 13491 |  6381 | 67.88949 | 32.110507 |\n",
       "| GenHlth              | Good                                       |  9970 | 13457 | 42.55773 | 57.442267 |\n",
       "| GenHlth              | Fair                                       |  3513 |  9790 | 26.40758 | 73.592423 |\n",
       "| GenHlth              | Poor                                       |  1230 |  4578 | 21.17769 | 78.822314 |\n",
       "| DiffWalk             | 0                                          | 30601 | 22225 | 57.92791 | 42.072086 |\n",
       "| DiffWalk             | 1                                          |  4745 | 13121 | 26.55883 | 73.441173 |\n",
       "| Sex                  | 0                                          | 19975 | 18411 | 52.03720 | 47.962799 |\n",
       "| Sex                  | 1                                          | 15371 | 16935 | 47.57940 | 52.420603 |\n",
       "| Age                  | 18-24                                      |   901 |    78 | 92.03269 |  7.967314 |\n",
       "| Age                  | 25-29                                      |  1256 |   140 | 89.97135 | 10.028653 |\n",
       "| Age                  | 30-34                                      |  1735 |   314 | 84.67545 | 15.324549 |\n",
       "| Age                  | 35-39                                      |  2167 |   626 | 77.58682 | 22.413176 |\n",
       "| Age                  | 40-44                                      |  2469 |  1051 | 70.14205 | 29.857955 |\n",
       "| Age                  | 45-49                                      |  2906 |  1742 | 62.52151 | 37.478485 |\n",
       "| Age                  | 50-54                                      |  3784 |  3088 | 55.06403 | 44.935972 |\n",
       "| Age                  | 55-59                                      |  4340 |  4263 | 50.44752 | 49.552482 |\n",
       "| Age                  | 60-64                                      |  4379 |  5733 | 43.30498 | 56.695016 |\n",
       "| Age                  | 65-69                                      |  4298 |  6558 | 39.59101 | 60.408990 |\n",
       "| Age                  | 70-74                                      |  2903 |  5141 | 36.08901 | 63.910990 |\n",
       "| Age                  | 75-79                                      |  1991 |  3403 | 36.91138 | 63.088617 |\n",
       "| Age                  | 80 or older                                |  2217 |  3209 | 40.85883 | 59.141172 |\n",
       "| Education            | Never attended school or only kindergarten |    28 |    47 | 37.33333 | 62.666667 |\n",
       "| Education            | Elementary                                 |   464 |  1183 | 28.17243 | 71.827565 |\n",
       "| Education            | Some high school                           |  1151 |  2296 | 33.39135 | 66.608645 |\n",
       "| Education            | High school graduate                       |  8407 | 11066 | 43.17260 | 56.827402 |\n",
       "| Education            | Some college or technical school           |  9676 | 10354 | 48.30754 | 51.692461 |\n",
       "| Education            | College graduate                           | 15620 | 10400 | 60.03075 | 39.969254 |\n",
       "| Income               | Less than $10,000                          |  1228 |  2383 | 34.00720 | 65.992800 |\n",
       "| Income               | $10,000 to less than $15,000               |  1412 |  3086 | 31.39173 | 68.608270 |\n",
       "| Income               | $15,000 to less than $20,000               |  1989 |  3568 | 35.79269 | 64.207306 |\n",
       "| Income               | $20,000 to less than $25,000               |  2604 |  4054 | 39.11084 | 60.889156 |\n",
       "| Income               | $25,000 to less than $35,000               |  3506 |  4504 | 43.77029 | 56.229713 |\n",
       "| Income               | $35,000 to less than $50,000               |  4996 |  5291 | 48.56615 | 51.433849 |\n",
       "| Income               | $50,000 to less than $75,000               |  6160 |  5265 | 53.91685 | 46.083151 |\n",
       "| Income               | $75,000 or more                            | 13451 |  7195 | 65.15063 | 34.849365 |\n",
       "\n"
      ],
      "text/plain": [
       "   var                  level                                      n_0   n_1  \n",
       "1  HighBP               0                                          22118  8742\n",
       "2  HighBP               1                                          13228 26604\n",
       "3  HighChol             0                                          21869 11660\n",
       "4  HighChol             1                                          13477 23686\n",
       "5  CholCheck            0                                           1508   241\n",
       "6  CholCheck            1                                          33838 35105\n",
       "7  Smoker               0                                          20065 17029\n",
       "8  Smoker               1                                          15281 18317\n",
       "9  Stroke               0                                          34219 32078\n",
       "10 Stroke               1                                           1127  3268\n",
       "11 HeartDiseaseorAttack 0                                          32775 27468\n",
       "12 HeartDiseaseorAttack 1                                           2571  7878\n",
       "13 PhysActivity         0                                           7934 13059\n",
       "14 PhysActivity         1                                          27412 22287\n",
       "15 Fruits               0                                          12790 14653\n",
       "16 Fruits               1                                          22556 20693\n",
       "17 Veggies              0                                           6322  8610\n",
       "18 Veggies              1                                          29024 26736\n",
       "19 HvyAlcoholConsump    0                                          33158 34514\n",
       "20 HvyAlcoholConsump    1                                           2188   832\n",
       "21 AnyHealthcare        0                                           1762  1422\n",
       "22 AnyHealthcare        1                                          33584 33924\n",
       "23 NoDocbcCost          0                                          32449 31604\n",
       "24 NoDocbcCost          1                                           2897  3742\n",
       "25 GenHlth              Excellent                                   7142  1140\n",
       "26 GenHlth              Very Good                                  13491  6381\n",
       "27 GenHlth              Good                                        9970 13457\n",
       "28 GenHlth              Fair                                        3513  9790\n",
       "29 GenHlth              Poor                                        1230  4578\n",
       "30 DiffWalk             0                                          30601 22225\n",
       "31 DiffWalk             1                                           4745 13121\n",
       "32 Sex                  0                                          19975 18411\n",
       "33 Sex                  1                                          15371 16935\n",
       "34 Age                  18-24                                        901    78\n",
       "35 Age                  25-29                                       1256   140\n",
       "36 Age                  30-34                                       1735   314\n",
       "37 Age                  35-39                                       2167   626\n",
       "38 Age                  40-44                                       2469  1051\n",
       "39 Age                  45-49                                       2906  1742\n",
       "40 Age                  50-54                                       3784  3088\n",
       "41 Age                  55-59                                       4340  4263\n",
       "42 Age                  60-64                                       4379  5733\n",
       "43 Age                  65-69                                       4298  6558\n",
       "44 Age                  70-74                                       2903  5141\n",
       "45 Age                  75-79                                       1991  3403\n",
       "46 Age                  80 or older                                 2217  3209\n",
       "47 Education            Never attended school or only kindergarten    28    47\n",
       "48 Education            Elementary                                   464  1183\n",
       "49 Education            Some high school                            1151  2296\n",
       "50 Education            High school graduate                        8407 11066\n",
       "51 Education            Some college or technical school            9676 10354\n",
       "52 Education            College graduate                           15620 10400\n",
       "53 Income               Less than $10,000                           1228  2383\n",
       "54 Income               $10,000 to less than $15,000                1412  3086\n",
       "55 Income               $15,000 to less than $20,000                1989  3568\n",
       "56 Income               $20,000 to less than $25,000                2604  4054\n",
       "57 Income               $25,000 to less than $35,000                3506  4504\n",
       "58 Income               $35,000 to less than $50,000                4996  5291\n",
       "59 Income               $50,000 to less than $75,000                6160  5265\n",
       "60 Income               $75,000 or more                            13451  7195\n",
       "   percent_0 percent_1\n",
       "1  71.67207  28.327933\n",
       "2  33.20948  66.790520\n",
       "3  65.22413  34.775866\n",
       "4  36.26456  63.735436\n",
       "5  86.22070  13.779302\n",
       "6  49.08112  50.918875\n",
       "7  54.09231  45.907694\n",
       "8  45.48187  54.518126\n",
       "9  51.61470  48.385296\n",
       "10 25.64278  74.357224\n",
       "11 54.40466  45.595339\n",
       "12 24.60523  75.394775\n",
       "13 37.79355  62.206450\n",
       "14 55.15604  44.843961\n",
       "15 46.60569  53.394308\n",
       "16 52.15381  47.846193\n",
       "17 42.33860  57.661398\n",
       "18 52.05165  47.948350\n",
       "19 48.99811  51.001891\n",
       "20 72.45033  27.549669\n",
       "21 55.33920  44.660804\n",
       "22 49.74818  50.251822\n",
       "23 50.65961  49.340390\n",
       "24 43.63609  56.363910\n",
       "25 86.23521  13.764791\n",
       "26 67.88949  32.110507\n",
       "27 42.55773  57.442267\n",
       "28 26.40758  73.592423\n",
       "29 21.17769  78.822314\n",
       "30 57.92791  42.072086\n",
       "31 26.55883  73.441173\n",
       "32 52.03720  47.962799\n",
       "33 47.57940  52.420603\n",
       "34 92.03269   7.967314\n",
       "35 89.97135  10.028653\n",
       "36 84.67545  15.324549\n",
       "37 77.58682  22.413176\n",
       "38 70.14205  29.857955\n",
       "39 62.52151  37.478485\n",
       "40 55.06403  44.935972\n",
       "41 50.44752  49.552482\n",
       "42 43.30498  56.695016\n",
       "43 39.59101  60.408990\n",
       "44 36.08901  63.910990\n",
       "45 36.91138  63.088617\n",
       "46 40.85883  59.141172\n",
       "47 37.33333  62.666667\n",
       "48 28.17243  71.827565\n",
       "49 33.39135  66.608645\n",
       "50 43.17260  56.827402\n",
       "51 48.30754  51.692461\n",
       "52 60.03075  39.969254\n",
       "53 34.00720  65.992800\n",
       "54 31.39173  68.608270\n",
       "55 35.79269  64.207306\n",
       "56 39.11084  60.889156\n",
       "57 43.77029  56.229713\n",
       "58 48.56615  51.433849\n",
       "59 53.91685  46.083151\n",
       "60 65.15063  34.849365"
      ]
     },
     "metadata": {},
     "output_type": "display_data"
    }
   ],
   "source": [
    "df_n <- NULL\n",
    "for (var in var_discrete) {\n",
    "  breakdown <- as.data.frame(table(df0[[var]], df0[[target]])) %>%\n",
    "    pivot_wider(names_from = \"Var2\", values_from = \"Freq\")\n",
    "  df_n <- rbind(df_n, cbind(var, breakdown))\n",
    "}\n",
    "df_n <- as.data.frame(df_n) %>%\n",
    "  rename(\"level\" = \"Var1\",\n",
    "         \"n_0\" = \"0\",\n",
    "         \"n_1\" = \"1\") %>%\n",
    "  mutate(percent_0 = n_0 / (n_0 + n_1)*100) %>%\n",
    "  mutate(percent_1 = n_1 / (n_0 + n_1)*100)\n",
    "rm(var, breakdown)\n",
    "df_n"
   ]
  },
  {
   "cell_type": "markdown",
   "metadata": {},
   "source": [
    "* The following groups of respondents have higher chance of getting pre-diabetes or diabetes\n",
    "    * Have high blood pressure (66.8%)\n",
    "    * Have high cholesterol (63.7%)\n",
    "    * Were told to have stroke (74.4%)\n",
    "    * Suffered from Heart disease attack (75.4%)\n",
    "    * Did not have physical activity in past 30 days (62.2%)\n",
    "    * Have serious difficulty walking or climbing stairs (73.4%)\n",
    "    * Aged above 45 (>60%)\n",
    "    * Have income lower than \\$20,000 (>64.2%)\n",
    "* The following groups of respondents have higher chance of not getting pre-diabetes or diabetes\n",
    "    * Did not receive cholesterol check in 5 years (86.2%)\n",
    "    * Graduate from university (60.0%)\n",
    "* It is surprising that 72.5% of heavy drinkers do not have diabetes"
   ]
  },
  {
   "cell_type": "markdown",
   "metadata": {},
   "source": [
    "##### Summary statistics"
   ]
  },
  {
   "cell_type": "code",
   "execution_count": 12,
   "metadata": {
    "vscode": {
     "languageId": "r"
    }
   },
   "outputs": [
    {
     "data": {
      "text/html": [
       "<table class=\"dataframe\">\n",
       "<caption>A data.frame: 3 x 8</caption>\n",
       "<thead>\n",
       "\t<tr><th scope=col>var</th><th scope=col>mean</th><th scope=col>sd</th><th scope=col>min</th><th scope=col>0.25p</th><th scope=col>0.5p</th><th scope=col>0.75p</th><th scope=col>max</th></tr>\n",
       "\t<tr><th scope=col>&lt;chr&gt;</th><th scope=col>&lt;chr&gt;</th><th scope=col>&lt;chr&gt;</th><th scope=col>&lt;chr&gt;</th><th scope=col>&lt;chr&gt;</th><th scope=col>&lt;chr&gt;</th><th scope=col>&lt;chr&gt;</th><th scope=col>&lt;chr&gt;</th></tr>\n",
       "</thead>\n",
       "<tbody>\n",
       "\t<tr><td>BMI     </td><td>29.8569852317091</td><td>7.1139538515769 </td><td>12</td><td>25</td><td>29</td><td>33</td><td>98</td></tr>\n",
       "\t<tr><td>MentHlth</td><td>3.75203700560238</td><td>8.15562655360549</td><td>0 </td><td>0 </td><td>0 </td><td>2 </td><td>30</td></tr>\n",
       "\t<tr><td>PhysHlth</td><td>5.81041702031227</td><td>10.0622605311617</td><td>0 </td><td>0 </td><td>0 </td><td>6 </td><td>30</td></tr>\n",
       "</tbody>\n",
       "</table>\n"
      ],
      "text/latex": [
       "A data.frame: 3 x 8\n",
       "\\begin{tabular}{llllllll}\n",
       " var & mean & sd & min & 0.25p & 0.5p & 0.75p & max\\\\\n",
       " <chr> & <chr> & <chr> & <chr> & <chr> & <chr> & <chr> & <chr>\\\\\n",
       "\\hline\n",
       "\t BMI      & 29.8569852317091 & 7.1139538515769  & 12 & 25 & 29 & 33 & 98\\\\\n",
       "\t MentHlth & 3.75203700560238 & 8.15562655360549 & 0  & 0  & 0  & 2  & 30\\\\\n",
       "\t PhysHlth & 5.81041702031227 & 10.0622605311617 & 0  & 0  & 0  & 6  & 30\\\\\n",
       "\\end{tabular}\n"
      ],
      "text/markdown": [
       "\n",
       "A data.frame: 3 x 8\n",
       "\n",
       "| var &lt;chr&gt; | mean &lt;chr&gt; | sd &lt;chr&gt; | min &lt;chr&gt; | 0.25p &lt;chr&gt; | 0.5p &lt;chr&gt; | 0.75p &lt;chr&gt; | max &lt;chr&gt; |\n",
       "|---|---|---|---|---|---|---|---|\n",
       "| BMI      | 29.8569852317091 | 7.1139538515769  | 12 | 25 | 29 | 33 | 98 |\n",
       "| MentHlth | 3.75203700560238 | 8.15562655360549 | 0  | 0  | 0  | 2  | 30 |\n",
       "| PhysHlth | 5.81041702031227 | 10.0622605311617 | 0  | 0  | 0  | 6  | 30 |\n",
       "\n"
      ],
      "text/plain": [
       "  var      mean             sd               min 0.25p 0.5p 0.75p max\n",
       "1 BMI      29.8569852317091 7.1139538515769  12  25    29   33    98 \n",
       "2 MentHlth 3.75203700560238 8.15562655360549 0   0     0    2     30 \n",
       "3 PhysHlth 5.81041702031227 10.0622605311617 0   0     0    6     30 "
      ]
     },
     "metadata": {},
     "output_type": "display_data"
    }
   ],
   "source": [
    "df_statistics <- NULL\n",
    "for (var in var_continuous) {\n",
    "  statistics <- c(mean(df0[[var]]), sd(df0[[var]]),\n",
    "                  min(df0[[var]]), quantile(df0[[var]], 0.25),\n",
    "                  quantile(df0[[var]], 0.5),\n",
    "                  quantile(df0[[var]], 0.75),\n",
    "                  max(df0[[var]]))\n",
    "  df_statistics <- rbind(df_statistics, c(var, statistics))\n",
    "}\n",
    "df_statistics <- as.data.frame(df_statistics) %>%\n",
    "  rename(\"var\" = \"V1\", \"mean\" = \"V2\", \"sd\" = \"V3\",\n",
    "         \"min\" = \"V4\", \"0.25p\" = \"25%\",\n",
    "         \"0.5p\" = \"50%\", \"0.75p\" = \"75%\", \"max\" = \"V8\")\n",
    "rownames(df_statistics) <- NULL\n",
    "rm(var, statistics)\n",
    "df_statistics"
   ]
  },
  {
   "cell_type": "markdown",
   "metadata": {},
   "source": [
    "* The mean of BMI is 29.8 which is overweight / marginally Class-I obese\n",
    "* The means of perceived bad physical and mental health are 0. "
   ]
  },
  {
   "cell_type": "markdown",
   "metadata": {},
   "source": [
    "#### Feature vs Target"
   ]
  },
  {
   "cell_type": "markdown",
   "metadata": {},
   "source": [
    "##### Chi square test"
   ]
  },
  {
   "cell_type": "code",
   "execution_count": 16,
   "metadata": {
    "vscode": {
     "languageId": "r"
    }
   },
   "outputs": [],
   "source": [
    "p_value <- c()\n",
    "warn <- c()\n",
    "for (var in var_discrete) {\n",
    "  test <- quite_chisquare(df0, var, target)\n",
    "  p_value <- c(p_value, test$result)\n",
    "  warn <- c(warn, !is_empty(test$warnings))\n",
    "}\n",
    "df_chisqaure <- data.frame(var = var_discrete, test = \"chi_square\",\n",
    "                           p_value = p_value, warn = warn)"
   ]
  },
  {
   "cell_type": "markdown",
   "metadata": {},
   "source": [
    "##### t-test"
   ]
  },
  {
   "cell_type": "code",
   "execution_count": 17,
   "metadata": {
    "vscode": {
     "languageId": "r"
    }
   },
   "outputs": [],
   "source": [
    "p_value <- c()\n",
    "for (var in var_continuous) {\n",
    "  test <- quite_t(df0, var, target)\n",
    "  p_value <- c(p_value, test$result$p.value)\n",
    "}\n",
    "df_t <- data.frame(var = var_continuous, test = \"t\",\n",
    "                   p_value = p_value, warn = NA)"
   ]
  },
  {
   "cell_type": "code",
   "execution_count": 18,
   "metadata": {
    "vscode": {
     "languageId": "r"
    }
   },
   "outputs": [
    {
     "data": {
      "text/html": [
       "<table class=\"dataframe\">\n",
       "<caption>A data.frame: 21 x 5</caption>\n",
       "<thead>\n",
       "\t<tr><th scope=col>var</th><th scope=col>test</th><th scope=col>p_value</th><th scope=col>warn</th><th scope=col>significant</th></tr>\n",
       "\t<tr><th scope=col>&lt;chr&gt;</th><th scope=col>&lt;chr&gt;</th><th scope=col>&lt;dbl&gt;</th><th scope=col>&lt;lgl&gt;</th><th scope=col>&lt;lgl&gt;</th></tr>\n",
       "</thead>\n",
       "<tbody>\n",
       "\t<tr><td>HighBP              </td><td>chi_square</td><td> 0.000000e+00</td><td>FALSE</td><td>TRUE</td></tr>\n",
       "\t<tr><td>HighChol            </td><td>chi_square</td><td> 0.000000e+00</td><td>FALSE</td><td>TRUE</td></tr>\n",
       "\t<tr><td>CholCheck           </td><td>chi_square</td><td>1.131744e-206</td><td>FALSE</td><td>TRUE</td></tr>\n",
       "\t<tr><td>BMI                 </td><td>t         </td><td> 0.000000e+00</td><td>   NA</td><td>TRUE</td></tr>\n",
       "\t<tr><td>Smoker              </td><td>chi_square</td><td>1.027623e-115</td><td>FALSE</td><td>TRUE</td></tr>\n",
       "\t<tr><td>Stroke              </td><td>chi_square</td><td>7.675953e-244</td><td>FALSE</td><td>TRUE</td></tr>\n",
       "\t<tr><td>HeartDiseaseorAttack</td><td>chi_square</td><td> 0.000000e+00</td><td>FALSE</td><td>TRUE</td></tr>\n",
       "\t<tr><td>PhysActivity        </td><td>chi_square</td><td> 0.000000e+00</td><td>FALSE</td><td>TRUE</td></tr>\n",
       "\t<tr><td>Fruits              </td><td>chi_square</td><td> 7.126725e-47</td><td>FALSE</td><td>TRUE</td></tr>\n",
       "\t<tr><td>Veggies             </td><td>chi_square</td><td> 1.152952e-98</td><td>FALSE</td><td>TRUE</td></tr>\n",
       "\t<tr><td>HvyAlcoholConsump   </td><td>chi_square</td><td>2.446843e-140</td><td>FALSE</td><td>TRUE</td></tr>\n",
       "\t<tr><td>AnyHealthcare       </td><td>chi_square</td><td> 7.006184e-10</td><td>FALSE</td><td>TRUE</td></tr>\n",
       "\t<tr><td>NoDocbcCost         </td><td>chi_square</td><td> 1.219836e-27</td><td>FALSE</td><td>TRUE</td></tr>\n",
       "\t<tr><td>GenHlth             </td><td>chi_square</td><td> 0.000000e+00</td><td>FALSE</td><td>TRUE</td></tr>\n",
       "\t<tr><td>MentHlth            </td><td>t         </td><td>7.117624e-119</td><td>   NA</td><td>TRUE</td></tr>\n",
       "\t<tr><td>PhysHlth            </td><td>t         </td><td> 0.000000e+00</td><td>   NA</td><td>TRUE</td></tr>\n",
       "\t<tr><td>DiffWalk            </td><td>chi_square</td><td> 0.000000e+00</td><td>FALSE</td><td>TRUE</td></tr>\n",
       "\t<tr><td>Sex                 </td><td>chi_square</td><td> 3.528989e-32</td><td>FALSE</td><td>TRUE</td></tr>\n",
       "\t<tr><td>Age                 </td><td>chi_square</td><td> 0.000000e+00</td><td>FALSE</td><td>TRUE</td></tr>\n",
       "\t<tr><td>Education           </td><td>chi_square</td><td> 0.000000e+00</td><td>FALSE</td><td>TRUE</td></tr>\n",
       "\t<tr><td>Income              </td><td>chi_square</td><td> 0.000000e+00</td><td>FALSE</td><td>TRUE</td></tr>\n",
       "</tbody>\n",
       "</table>\n"
      ],
      "text/latex": [
       "A data.frame: 21 x 5\n",
       "\\begin{tabular}{lllll}\n",
       " var & test & p\\_value & warn & significant\\\\\n",
       " <chr> & <chr> & <dbl> & <lgl> & <lgl>\\\\\n",
       "\\hline\n",
       "\t HighBP               & chi\\_square &  0.000000e+00 & FALSE & TRUE\\\\\n",
       "\t HighChol             & chi\\_square &  0.000000e+00 & FALSE & TRUE\\\\\n",
       "\t CholCheck            & chi\\_square & 1.131744e-206 & FALSE & TRUE\\\\\n",
       "\t BMI                  & t          &  0.000000e+00 &    NA & TRUE\\\\\n",
       "\t Smoker               & chi\\_square & 1.027623e-115 & FALSE & TRUE\\\\\n",
       "\t Stroke               & chi\\_square & 7.675953e-244 & FALSE & TRUE\\\\\n",
       "\t HeartDiseaseorAttack & chi\\_square &  0.000000e+00 & FALSE & TRUE\\\\\n",
       "\t PhysActivity         & chi\\_square &  0.000000e+00 & FALSE & TRUE\\\\\n",
       "\t Fruits               & chi\\_square &  7.126725e-47 & FALSE & TRUE\\\\\n",
       "\t Veggies              & chi\\_square &  1.152952e-98 & FALSE & TRUE\\\\\n",
       "\t HvyAlcoholConsump    & chi\\_square & 2.446843e-140 & FALSE & TRUE\\\\\n",
       "\t AnyHealthcare        & chi\\_square &  7.006184e-10 & FALSE & TRUE\\\\\n",
       "\t NoDocbcCost          & chi\\_square &  1.219836e-27 & FALSE & TRUE\\\\\n",
       "\t GenHlth              & chi\\_square &  0.000000e+00 & FALSE & TRUE\\\\\n",
       "\t MentHlth             & t          & 7.117624e-119 &    NA & TRUE\\\\\n",
       "\t PhysHlth             & t          &  0.000000e+00 &    NA & TRUE\\\\\n",
       "\t DiffWalk             & chi\\_square &  0.000000e+00 & FALSE & TRUE\\\\\n",
       "\t Sex                  & chi\\_square &  3.528989e-32 & FALSE & TRUE\\\\\n",
       "\t Age                  & chi\\_square &  0.000000e+00 & FALSE & TRUE\\\\\n",
       "\t Education            & chi\\_square &  0.000000e+00 & FALSE & TRUE\\\\\n",
       "\t Income               & chi\\_square &  0.000000e+00 & FALSE & TRUE\\\\\n",
       "\\end{tabular}\n"
      ],
      "text/markdown": [
       "\n",
       "A data.frame: 21 x 5\n",
       "\n",
       "| var &lt;chr&gt; | test &lt;chr&gt; | p_value &lt;dbl&gt; | warn &lt;lgl&gt; | significant &lt;lgl&gt; |\n",
       "|---|---|---|---|---|\n",
       "| HighBP               | chi_square |  0.000000e+00 | FALSE | TRUE |\n",
       "| HighChol             | chi_square |  0.000000e+00 | FALSE | TRUE |\n",
       "| CholCheck            | chi_square | 1.131744e-206 | FALSE | TRUE |\n",
       "| BMI                  | t          |  0.000000e+00 |    NA | TRUE |\n",
       "| Smoker               | chi_square | 1.027623e-115 | FALSE | TRUE |\n",
       "| Stroke               | chi_square | 7.675953e-244 | FALSE | TRUE |\n",
       "| HeartDiseaseorAttack | chi_square |  0.000000e+00 | FALSE | TRUE |\n",
       "| PhysActivity         | chi_square |  0.000000e+00 | FALSE | TRUE |\n",
       "| Fruits               | chi_square |  7.126725e-47 | FALSE | TRUE |\n",
       "| Veggies              | chi_square |  1.152952e-98 | FALSE | TRUE |\n",
       "| HvyAlcoholConsump    | chi_square | 2.446843e-140 | FALSE | TRUE |\n",
       "| AnyHealthcare        | chi_square |  7.006184e-10 | FALSE | TRUE |\n",
       "| NoDocbcCost          | chi_square |  1.219836e-27 | FALSE | TRUE |\n",
       "| GenHlth              | chi_square |  0.000000e+00 | FALSE | TRUE |\n",
       "| MentHlth             | t          | 7.117624e-119 |    NA | TRUE |\n",
       "| PhysHlth             | t          |  0.000000e+00 |    NA | TRUE |\n",
       "| DiffWalk             | chi_square |  0.000000e+00 | FALSE | TRUE |\n",
       "| Sex                  | chi_square |  3.528989e-32 | FALSE | TRUE |\n",
       "| Age                  | chi_square |  0.000000e+00 | FALSE | TRUE |\n",
       "| Education            | chi_square |  0.000000e+00 | FALSE | TRUE |\n",
       "| Income               | chi_square |  0.000000e+00 | FALSE | TRUE |\n",
       "\n"
      ],
      "text/plain": [
       "   var                  test       p_value       warn  significant\n",
       "1  HighBP               chi_square  0.000000e+00 FALSE TRUE       \n",
       "2  HighChol             chi_square  0.000000e+00 FALSE TRUE       \n",
       "3  CholCheck            chi_square 1.131744e-206 FALSE TRUE       \n",
       "4  BMI                  t           0.000000e+00    NA TRUE       \n",
       "5  Smoker               chi_square 1.027623e-115 FALSE TRUE       \n",
       "6  Stroke               chi_square 7.675953e-244 FALSE TRUE       \n",
       "7  HeartDiseaseorAttack chi_square  0.000000e+00 FALSE TRUE       \n",
       "8  PhysActivity         chi_square  0.000000e+00 FALSE TRUE       \n",
       "9  Fruits               chi_square  7.126725e-47 FALSE TRUE       \n",
       "10 Veggies              chi_square  1.152952e-98 FALSE TRUE       \n",
       "11 HvyAlcoholConsump    chi_square 2.446843e-140 FALSE TRUE       \n",
       "12 AnyHealthcare        chi_square  7.006184e-10 FALSE TRUE       \n",
       "13 NoDocbcCost          chi_square  1.219836e-27 FALSE TRUE       \n",
       "14 GenHlth              chi_square  0.000000e+00 FALSE TRUE       \n",
       "15 MentHlth             t          7.117624e-119    NA TRUE       \n",
       "16 PhysHlth             t           0.000000e+00    NA TRUE       \n",
       "17 DiffWalk             chi_square  0.000000e+00 FALSE TRUE       \n",
       "18 Sex                  chi_square  3.528989e-32 FALSE TRUE       \n",
       "19 Age                  chi_square  0.000000e+00 FALSE TRUE       \n",
       "20 Education            chi_square  0.000000e+00 FALSE TRUE       \n",
       "21 Income               chi_square  0.000000e+00 FALSE TRUE       "
      ]
     },
     "metadata": {},
     "output_type": "display_data"
    }
   ],
   "source": [
    "df_hypothesis_test <- rbind(df_chisqaure, df_t) %>%\n",
    "  arrange(match(var, colnames(df0))) %>%\n",
    "  mutate(significant = (p_value < 0.05))\n",
    "rm(p_value, warn, var, test, df_chisqaure, df_t)\n",
    "df_hypothesis_test"
   ]
  },
  {
   "cell_type": "markdown",
   "metadata": {},
   "source": [
    "* The relationship between target and features are investigated. \n",
    "* Chi-sqaure test was performed for discrete variables. All of them have a significant relationship with the target\n",
    "* t-test was performed for continuous variables. All of them have a significant result."
   ]
  },
  {
   "cell_type": "markdown",
   "metadata": {},
   "source": [
    "#### Between features"
   ]
  },
  {
   "cell_type": "markdown",
   "metadata": {},
   "source": [
    "##### Chi square test"
   ]
  },
  {
   "cell_type": "code",
   "execution_count": 20,
   "metadata": {
    "vscode": {
     "languageId": "r"
    }
   },
   "outputs": [],
   "source": [
    "df_multicollinearity <- as.data.frame(t(combn(var_discrete, 2)))\n",
    "rownames(df_multicollinearity) <- NULL\n",
    "colnames(df_multicollinearity) <- c(\"v1\", \"v2\")\n",
    "df_multicollinearity$p_value <- NA\n",
    "df_multicollinearity <- combn(var_discrete, 2) %>%\n",
    "  t() %>%\n",
    "  as.data.frame() %>%\n",
    "  rename(\"v1\" = \"V1\", \"v2\" = \"V2\") %>%\n",
    "  mutate(p_value = NA, warn = NA)\n",
    "for (i in seq_len(nrow(df_multicollinearity))) {\n",
    "  var1 <- df_multicollinearity[i, 1]\n",
    "  var2 <- df_multicollinearity[i, 2]\n",
    "  test <- quite_chisquare(df0, var1, var2)\n",
    "  df_multicollinearity[i, 3] <- test$result\n",
    "  df_multicollinearity[i, 4] <- !is_empty(test$warnings)\n",
    "}\n",
    "df_multicollinearity$significant <- (df_multicollinearity$p_value < 0.05)\n",
    "rm(test, i, var1, var2)\n",
    "# df_multicollinearity"
   ]
  },
  {
   "cell_type": "markdown",
   "metadata": {},
   "source": [
    "* The relationships for each pair of categorical variables are investigated by carrying out chi-square test.\n",
    "* There is a statistically significant relationship between most of the pairs except the following pair\n",
    "    * `CholCheck` and `Education`\n",
    "    * `CholCheck` and `Smoker`  \n",
    "    * `CholCheck` and `Veggies`\n",
    "    * `CholCheck` and `Income`\n",
    "    * `Stroke` and `AnyHealthcare`\n",
    "    * `Stroke` and `Sex`\n",
    "    * `AnyHealthcare` and `Sex`\n",
    "* The chi-square test between the following pairs may not be valid because some of the expected cell frequencies in a contingency table are less than 5\n",
    "    * `CholCheck` and `Education`\n",
    "    * `Stroke` and `Education`\n",
    "    * `HvyAlcoholConsump` and `Education`\n",
    "    * `AnyHealthcare` and `Education`\n",
    "    * `Age` and `Education`\n",
    "    * `Income` and `Education`\n",
    "* In summary, feature engineering is needed when building a prediction model"
   ]
  },
  {
   "cell_type": "markdown",
   "metadata": {},
   "source": [
    "##### One-way ANOVA"
   ]
  },
  {
   "cell_type": "code",
   "execution_count": 21,
   "metadata": {
    "vscode": {
     "languageId": "r"
    }
   },
   "outputs": [
    {
     "data": {
      "text/html": [
       "<table class=\"dataframe\">\n",
       "<caption>A data.frame: 18 x 3</caption>\n",
       "<thead>\n",
       "\t<tr><th scope=col>var</th><th scope=col>p_value</th><th scope=col>significant</th></tr>\n",
       "\t<tr><th scope=col>&lt;chr&gt;</th><th scope=col>&lt;dbl&gt;</th><th scope=col>&lt;lgl&gt;</th></tr>\n",
       "</thead>\n",
       "<tbody>\n",
       "\t<tr><td>HighBP              </td><td> 0.000000e+00</td><td> TRUE</td></tr>\n",
       "\t<tr><td>HighChol            </td><td>2.401184e-269</td><td> TRUE</td></tr>\n",
       "\t<tr><td>CholCheck           </td><td> 6.259704e-34</td><td> TRUE</td></tr>\n",
       "\t<tr><td>Smoker              </td><td> 2.131166e-03</td><td> TRUE</td></tr>\n",
       "\t<tr><td>Stroke              </td><td> 1.077079e-09</td><td> TRUE</td></tr>\n",
       "\t<tr><td>HeartDiseaseorAttack</td><td> 4.750003e-58</td><td> TRUE</td></tr>\n",
       "\t<tr><td>PhysActivity        </td><td> 0.000000e+00</td><td> TRUE</td></tr>\n",
       "\t<tr><td>Fruits              </td><td>3.456154e-112</td><td> TRUE</td></tr>\n",
       "\t<tr><td>Veggies             </td><td> 3.937393e-51</td><td> TRUE</td></tr>\n",
       "\t<tr><td>HvyAlcoholConsump   </td><td> 3.720555e-54</td><td> TRUE</td></tr>\n",
       "\t<tr><td>AnyHealthcare       </td><td> 3.605158e-04</td><td> TRUE</td></tr>\n",
       "\t<tr><td>NoDocbcCost         </td><td> 9.736184e-69</td><td> TRUE</td></tr>\n",
       "\t<tr><td>GenHlth             </td><td> 0.000000e+00</td><td> TRUE</td></tr>\n",
       "\t<tr><td>DiffWalk            </td><td> 0.000000e+00</td><td> TRUE</td></tr>\n",
       "\t<tr><td>Sex                 </td><td> 8.259176e-01</td><td>FALSE</td></tr>\n",
       "\t<tr><td>Age                 </td><td> 0.000000e+00</td><td> TRUE</td></tr>\n",
       "\t<tr><td>Education           </td><td>1.357193e-204</td><td> TRUE</td></tr>\n",
       "\t<tr><td>Income              </td><td>2.673307e-252</td><td> TRUE</td></tr>\n",
       "</tbody>\n",
       "</table>\n"
      ],
      "text/latex": [
       "A data.frame: 18 x 3\n",
       "\\begin{tabular}{lll}\n",
       " var & p\\_value & significant\\\\\n",
       " <chr> & <dbl> & <lgl>\\\\\n",
       "\\hline\n",
       "\t HighBP               &  0.000000e+00 &  TRUE\\\\\n",
       "\t HighChol             & 2.401184e-269 &  TRUE\\\\\n",
       "\t CholCheck            &  6.259704e-34 &  TRUE\\\\\n",
       "\t Smoker               &  2.131166e-03 &  TRUE\\\\\n",
       "\t Stroke               &  1.077079e-09 &  TRUE\\\\\n",
       "\t HeartDiseaseorAttack &  4.750003e-58 &  TRUE\\\\\n",
       "\t PhysActivity         &  0.000000e+00 &  TRUE\\\\\n",
       "\t Fruits               & 3.456154e-112 &  TRUE\\\\\n",
       "\t Veggies              &  3.937393e-51 &  TRUE\\\\\n",
       "\t HvyAlcoholConsump    &  3.720555e-54 &  TRUE\\\\\n",
       "\t AnyHealthcare        &  3.605158e-04 &  TRUE\\\\\n",
       "\t NoDocbcCost          &  9.736184e-69 &  TRUE\\\\\n",
       "\t GenHlth              &  0.000000e+00 &  TRUE\\\\\n",
       "\t DiffWalk             &  0.000000e+00 &  TRUE\\\\\n",
       "\t Sex                  &  8.259176e-01 & FALSE\\\\\n",
       "\t Age                  &  0.000000e+00 &  TRUE\\\\\n",
       "\t Education            & 1.357193e-204 &  TRUE\\\\\n",
       "\t Income               & 2.673307e-252 &  TRUE\\\\\n",
       "\\end{tabular}\n"
      ],
      "text/markdown": [
       "\n",
       "A data.frame: 18 x 3\n",
       "\n",
       "| var &lt;chr&gt; | p_value &lt;dbl&gt; | significant &lt;lgl&gt; |\n",
       "|---|---|---|\n",
       "| HighBP               |  0.000000e+00 |  TRUE |\n",
       "| HighChol             | 2.401184e-269 |  TRUE |\n",
       "| CholCheck            |  6.259704e-34 |  TRUE |\n",
       "| Smoker               |  2.131166e-03 |  TRUE |\n",
       "| Stroke               |  1.077079e-09 |  TRUE |\n",
       "| HeartDiseaseorAttack |  4.750003e-58 |  TRUE |\n",
       "| PhysActivity         |  0.000000e+00 |  TRUE |\n",
       "| Fruits               | 3.456154e-112 |  TRUE |\n",
       "| Veggies              |  3.937393e-51 |  TRUE |\n",
       "| HvyAlcoholConsump    |  3.720555e-54 |  TRUE |\n",
       "| AnyHealthcare        |  3.605158e-04 |  TRUE |\n",
       "| NoDocbcCost          |  9.736184e-69 |  TRUE |\n",
       "| GenHlth              |  0.000000e+00 |  TRUE |\n",
       "| DiffWalk             |  0.000000e+00 |  TRUE |\n",
       "| Sex                  |  8.259176e-01 | FALSE |\n",
       "| Age                  |  0.000000e+00 |  TRUE |\n",
       "| Education            | 1.357193e-204 |  TRUE |\n",
       "| Income               | 2.673307e-252 |  TRUE |\n",
       "\n"
      ],
      "text/plain": [
       "   var                  p_value       significant\n",
       "1  HighBP                0.000000e+00  TRUE      \n",
       "2  HighChol             2.401184e-269  TRUE      \n",
       "3  CholCheck             6.259704e-34  TRUE      \n",
       "4  Smoker                2.131166e-03  TRUE      \n",
       "5  Stroke                1.077079e-09  TRUE      \n",
       "6  HeartDiseaseorAttack  4.750003e-58  TRUE      \n",
       "7  PhysActivity          0.000000e+00  TRUE      \n",
       "8  Fruits               3.456154e-112  TRUE      \n",
       "9  Veggies               3.937393e-51  TRUE      \n",
       "10 HvyAlcoholConsump     3.720555e-54  TRUE      \n",
       "11 AnyHealthcare         3.605158e-04  TRUE      \n",
       "12 NoDocbcCost           9.736184e-69  TRUE      \n",
       "13 GenHlth               0.000000e+00  TRUE      \n",
       "14 DiffWalk              0.000000e+00  TRUE      \n",
       "15 Sex                   8.259176e-01 FALSE      \n",
       "16 Age                   0.000000e+00  TRUE      \n",
       "17 Education            1.357193e-204  TRUE      \n",
       "18 Income               2.673307e-252  TRUE      "
      ]
     },
     "metadata": {},
     "output_type": "display_data"
    }
   ],
   "source": [
    "df_anova <- NULL\n",
    "for (var in var_discrete) {\n",
    "  model <- aov(formula = as.formula(paste(\"BMI\", \"~\", var)), data = df0)\n",
    "  model_summary <- summary(model)\n",
    "  p_value <- model_summary[[1]]$Pr[[1]]\n",
    "  df_anova <- rbind(df_anova, c(var, p_value))\n",
    "}\n",
    "df_anova <- as.data.frame(df_anova) %>%\n",
    "  rename(\"var\" = \"V1\", \"p_value\" = \"V2\") %>%\n",
    "  mutate(p_value = as.numeric(p_value)) %>%\n",
    "  mutate(significant = (p_value < 0.05))\n",
    "df_anova\n",
    "rm(model, model_summary, var)"
   ]
  },
  {
   "cell_type": "markdown",
   "metadata": {},
   "source": [
    "* The relationship between BMI and the remaining features are investigated by one-way ANOVA\n",
    "* Almost all categorical variables have a significant relationship with the `BMI` except the gender"
   ]
  },
  {
   "cell_type": "markdown",
   "metadata": {},
   "source": [
    "##### Kruskal-Wallis test"
   ]
  },
  {
   "cell_type": "code",
   "execution_count": 22,
   "metadata": {
    "vscode": {
     "languageId": "r"
    }
   },
   "outputs": [
    {
     "data": {
      "text/html": [
       "<table class=\"dataframe\">\n",
       "<caption>A data.frame: 36 x 4</caption>\n",
       "<thead>\n",
       "\t<tr><th scope=col>response</th><th scope=col>group</th><th scope=col>p_value</th><th scope=col>significant</th></tr>\n",
       "\t<tr><th scope=col>&lt;chr&gt;</th><th scope=col>&lt;chr&gt;</th><th scope=col>&lt;dbl&gt;</th><th scope=col>&lt;lgl&gt;</th></tr>\n",
       "</thead>\n",
       "<tbody>\n",
       "\t<tr><td>PhysHlth</td><td>HighBP              </td><td> 0.000000e+00</td><td> TRUE</td></tr>\n",
       "\t<tr><td>PhysHlth</td><td>HighChol            </td><td> 0.000000e+00</td><td> TRUE</td></tr>\n",
       "\t<tr><td>PhysHlth</td><td>CholCheck           </td><td> 3.902831e-18</td><td> TRUE</td></tr>\n",
       "\t<tr><td>PhysHlth</td><td>Smoker              </td><td>1.790173e-159</td><td> TRUE</td></tr>\n",
       "\t<tr><td>PhysHlth</td><td>Stroke              </td><td> 0.000000e+00</td><td> TRUE</td></tr>\n",
       "\t<tr><td>PhysHlth</td><td>HeartDiseaseorAttack</td><td> 0.000000e+00</td><td> TRUE</td></tr>\n",
       "\t<tr><td>PhysHlth</td><td>PhysActivity        </td><td> 0.000000e+00</td><td> TRUE</td></tr>\n",
       "\t<tr><td>PhysHlth</td><td>Fruits              </td><td> 7.795821e-41</td><td> TRUE</td></tr>\n",
       "\t<tr><td>PhysHlth</td><td>Veggies             </td><td> 3.777201e-59</td><td> TRUE</td></tr>\n",
       "\t<tr><td>PhysHlth</td><td>HvyAlcoholConsump   </td><td> 1.438108e-21</td><td> TRUE</td></tr>\n",
       "\t<tr><td>PhysHlth</td><td>AnyHealthcare       </td><td> 1.252808e-01</td><td>FALSE</td></tr>\n",
       "\t<tr><td>PhysHlth</td><td>NoDocbcCost         </td><td> 0.000000e+00</td><td> TRUE</td></tr>\n",
       "\t<tr><td>PhysHlth</td><td>GenHlth             </td><td> 0.000000e+00</td><td> TRUE</td></tr>\n",
       "\t<tr><td>PhysHlth</td><td>DiffWalk            </td><td> 0.000000e+00</td><td> TRUE</td></tr>\n",
       "\t<tr><td>PhysHlth</td><td>Sex                 </td><td> 5.496433e-78</td><td> TRUE</td></tr>\n",
       "\t<tr><td>PhysHlth</td><td>Age                 </td><td>1.091752e-122</td><td> TRUE</td></tr>\n",
       "\t<tr><td>PhysHlth</td><td>Education           </td><td>3.458460e-323</td><td> TRUE</td></tr>\n",
       "\t<tr><td>PhysHlth</td><td>Income              </td><td> 0.000000e+00</td><td> TRUE</td></tr>\n",
       "\t<tr><td>MentHlth</td><td>HighBP              </td><td> 4.556126e-25</td><td> TRUE</td></tr>\n",
       "\t<tr><td>MentHlth</td><td>HighChol            </td><td> 1.251488e-78</td><td> TRUE</td></tr>\n",
       "\t<tr><td>MentHlth</td><td>CholCheck           </td><td> 6.507670e-06</td><td> TRUE</td></tr>\n",
       "\t<tr><td>MentHlth</td><td>Smoker              </td><td> 4.497566e-61</td><td> TRUE</td></tr>\n",
       "\t<tr><td>MentHlth</td><td>Stroke              </td><td> 1.834793e-73</td><td> TRUE</td></tr>\n",
       "\t<tr><td>MentHlth</td><td>HeartDiseaseorAttack</td><td> 3.030878e-42</td><td> TRUE</td></tr>\n",
       "\t<tr><td>MentHlth</td><td>PhysActivity        </td><td>3.358971e-149</td><td> TRUE</td></tr>\n",
       "\t<tr><td>MentHlth</td><td>Fruits              </td><td> 2.455635e-57</td><td> TRUE</td></tr>\n",
       "\t<tr><td>MentHlth</td><td>Veggies             </td><td> 2.246014e-27</td><td> TRUE</td></tr>\n",
       "\t<tr><td>MentHlth</td><td>HvyAlcoholConsump   </td><td> 9.775219e-11</td><td> TRUE</td></tr>\n",
       "\t<tr><td>MentHlth</td><td>AnyHealthcare       </td><td> 3.605627e-35</td><td> TRUE</td></tr>\n",
       "\t<tr><td>MentHlth</td><td>NoDocbcCost         </td><td> 0.000000e+00</td><td> TRUE</td></tr>\n",
       "\t<tr><td>MentHlth</td><td>GenHlth             </td><td> 0.000000e+00</td><td> TRUE</td></tr>\n",
       "\t<tr><td>MentHlth</td><td>DiffWalk            </td><td> 0.000000e+00</td><td> TRUE</td></tr>\n",
       "\t<tr><td>MentHlth</td><td>Sex                 </td><td>2.472722e-254</td><td> TRUE</td></tr>\n",
       "\t<tr><td>MentHlth</td><td>Age                 </td><td> 0.000000e+00</td><td> TRUE</td></tr>\n",
       "\t<tr><td>MentHlth</td><td>Education           </td><td> 2.424589e-90</td><td> TRUE</td></tr>\n",
       "\t<tr><td>MentHlth</td><td>Income              </td><td> 0.000000e+00</td><td> TRUE</td></tr>\n",
       "</tbody>\n",
       "</table>\n"
      ],
      "text/latex": [
       "A data.frame: 36 x 4\n",
       "\\begin{tabular}{llll}\n",
       " response & group & p\\_value & significant\\\\\n",
       " <chr> & <chr> & <dbl> & <lgl>\\\\\n",
       "\\hline\n",
       "\t PhysHlth & HighBP               &  0.000000e+00 &  TRUE\\\\\n",
       "\t PhysHlth & HighChol             &  0.000000e+00 &  TRUE\\\\\n",
       "\t PhysHlth & CholCheck            &  3.902831e-18 &  TRUE\\\\\n",
       "\t PhysHlth & Smoker               & 1.790173e-159 &  TRUE\\\\\n",
       "\t PhysHlth & Stroke               &  0.000000e+00 &  TRUE\\\\\n",
       "\t PhysHlth & HeartDiseaseorAttack &  0.000000e+00 &  TRUE\\\\\n",
       "\t PhysHlth & PhysActivity         &  0.000000e+00 &  TRUE\\\\\n",
       "\t PhysHlth & Fruits               &  7.795821e-41 &  TRUE\\\\\n",
       "\t PhysHlth & Veggies              &  3.777201e-59 &  TRUE\\\\\n",
       "\t PhysHlth & HvyAlcoholConsump    &  1.438108e-21 &  TRUE\\\\\n",
       "\t PhysHlth & AnyHealthcare        &  1.252808e-01 & FALSE\\\\\n",
       "\t PhysHlth & NoDocbcCost          &  0.000000e+00 &  TRUE\\\\\n",
       "\t PhysHlth & GenHlth              &  0.000000e+00 &  TRUE\\\\\n",
       "\t PhysHlth & DiffWalk             &  0.000000e+00 &  TRUE\\\\\n",
       "\t PhysHlth & Sex                  &  5.496433e-78 &  TRUE\\\\\n",
       "\t PhysHlth & Age                  & 1.091752e-122 &  TRUE\\\\\n",
       "\t PhysHlth & Education            & 3.458460e-323 &  TRUE\\\\\n",
       "\t PhysHlth & Income               &  0.000000e+00 &  TRUE\\\\\n",
       "\t MentHlth & HighBP               &  4.556126e-25 &  TRUE\\\\\n",
       "\t MentHlth & HighChol             &  1.251488e-78 &  TRUE\\\\\n",
       "\t MentHlth & CholCheck            &  6.507670e-06 &  TRUE\\\\\n",
       "\t MentHlth & Smoker               &  4.497566e-61 &  TRUE\\\\\n",
       "\t MentHlth & Stroke               &  1.834793e-73 &  TRUE\\\\\n",
       "\t MentHlth & HeartDiseaseorAttack &  3.030878e-42 &  TRUE\\\\\n",
       "\t MentHlth & PhysActivity         & 3.358971e-149 &  TRUE\\\\\n",
       "\t MentHlth & Fruits               &  2.455635e-57 &  TRUE\\\\\n",
       "\t MentHlth & Veggies              &  2.246014e-27 &  TRUE\\\\\n",
       "\t MentHlth & HvyAlcoholConsump    &  9.775219e-11 &  TRUE\\\\\n",
       "\t MentHlth & AnyHealthcare        &  3.605627e-35 &  TRUE\\\\\n",
       "\t MentHlth & NoDocbcCost          &  0.000000e+00 &  TRUE\\\\\n",
       "\t MentHlth & GenHlth              &  0.000000e+00 &  TRUE\\\\\n",
       "\t MentHlth & DiffWalk             &  0.000000e+00 &  TRUE\\\\\n",
       "\t MentHlth & Sex                  & 2.472722e-254 &  TRUE\\\\\n",
       "\t MentHlth & Age                  &  0.000000e+00 &  TRUE\\\\\n",
       "\t MentHlth & Education            &  2.424589e-90 &  TRUE\\\\\n",
       "\t MentHlth & Income               &  0.000000e+00 &  TRUE\\\\\n",
       "\\end{tabular}\n"
      ],
      "text/markdown": [
       "\n",
       "A data.frame: 36 x 4\n",
       "\n",
       "| response &lt;chr&gt; | group &lt;chr&gt; | p_value &lt;dbl&gt; | significant &lt;lgl&gt; |\n",
       "|---|---|---|---|\n",
       "| PhysHlth | HighBP               |  0.000000e+00 |  TRUE |\n",
       "| PhysHlth | HighChol             |  0.000000e+00 |  TRUE |\n",
       "| PhysHlth | CholCheck            |  3.902831e-18 |  TRUE |\n",
       "| PhysHlth | Smoker               | 1.790173e-159 |  TRUE |\n",
       "| PhysHlth | Stroke               |  0.000000e+00 |  TRUE |\n",
       "| PhysHlth | HeartDiseaseorAttack |  0.000000e+00 |  TRUE |\n",
       "| PhysHlth | PhysActivity         |  0.000000e+00 |  TRUE |\n",
       "| PhysHlth | Fruits               |  7.795821e-41 |  TRUE |\n",
       "| PhysHlth | Veggies              |  3.777201e-59 |  TRUE |\n",
       "| PhysHlth | HvyAlcoholConsump    |  1.438108e-21 |  TRUE |\n",
       "| PhysHlth | AnyHealthcare        |  1.252808e-01 | FALSE |\n",
       "| PhysHlth | NoDocbcCost          |  0.000000e+00 |  TRUE |\n",
       "| PhysHlth | GenHlth              |  0.000000e+00 |  TRUE |\n",
       "| PhysHlth | DiffWalk             |  0.000000e+00 |  TRUE |\n",
       "| PhysHlth | Sex                  |  5.496433e-78 |  TRUE |\n",
       "| PhysHlth | Age                  | 1.091752e-122 |  TRUE |\n",
       "| PhysHlth | Education            | 3.458460e-323 |  TRUE |\n",
       "| PhysHlth | Income               |  0.000000e+00 |  TRUE |\n",
       "| MentHlth | HighBP               |  4.556126e-25 |  TRUE |\n",
       "| MentHlth | HighChol             |  1.251488e-78 |  TRUE |\n",
       "| MentHlth | CholCheck            |  6.507670e-06 |  TRUE |\n",
       "| MentHlth | Smoker               |  4.497566e-61 |  TRUE |\n",
       "| MentHlth | Stroke               |  1.834793e-73 |  TRUE |\n",
       "| MentHlth | HeartDiseaseorAttack |  3.030878e-42 |  TRUE |\n",
       "| MentHlth | PhysActivity         | 3.358971e-149 |  TRUE |\n",
       "| MentHlth | Fruits               |  2.455635e-57 |  TRUE |\n",
       "| MentHlth | Veggies              |  2.246014e-27 |  TRUE |\n",
       "| MentHlth | HvyAlcoholConsump    |  9.775219e-11 |  TRUE |\n",
       "| MentHlth | AnyHealthcare        |  3.605627e-35 |  TRUE |\n",
       "| MentHlth | NoDocbcCost          |  0.000000e+00 |  TRUE |\n",
       "| MentHlth | GenHlth              |  0.000000e+00 |  TRUE |\n",
       "| MentHlth | DiffWalk             |  0.000000e+00 |  TRUE |\n",
       "| MentHlth | Sex                  | 2.472722e-254 |  TRUE |\n",
       "| MentHlth | Age                  |  0.000000e+00 |  TRUE |\n",
       "| MentHlth | Education            |  2.424589e-90 |  TRUE |\n",
       "| MentHlth | Income               |  0.000000e+00 |  TRUE |\n",
       "\n"
      ],
      "text/plain": [
       "   response group                p_value       significant\n",
       "1  PhysHlth HighBP                0.000000e+00  TRUE      \n",
       "2  PhysHlth HighChol              0.000000e+00  TRUE      \n",
       "3  PhysHlth CholCheck             3.902831e-18  TRUE      \n",
       "4  PhysHlth Smoker               1.790173e-159  TRUE      \n",
       "5  PhysHlth Stroke                0.000000e+00  TRUE      \n",
       "6  PhysHlth HeartDiseaseorAttack  0.000000e+00  TRUE      \n",
       "7  PhysHlth PhysActivity          0.000000e+00  TRUE      \n",
       "8  PhysHlth Fruits                7.795821e-41  TRUE      \n",
       "9  PhysHlth Veggies               3.777201e-59  TRUE      \n",
       "10 PhysHlth HvyAlcoholConsump     1.438108e-21  TRUE      \n",
       "11 PhysHlth AnyHealthcare         1.252808e-01 FALSE      \n",
       "12 PhysHlth NoDocbcCost           0.000000e+00  TRUE      \n",
       "13 PhysHlth GenHlth               0.000000e+00  TRUE      \n",
       "14 PhysHlth DiffWalk              0.000000e+00  TRUE      \n",
       "15 PhysHlth Sex                   5.496433e-78  TRUE      \n",
       "16 PhysHlth Age                  1.091752e-122  TRUE      \n",
       "17 PhysHlth Education            3.458460e-323  TRUE      \n",
       "18 PhysHlth Income                0.000000e+00  TRUE      \n",
       "19 MentHlth HighBP                4.556126e-25  TRUE      \n",
       "20 MentHlth HighChol              1.251488e-78  TRUE      \n",
       "21 MentHlth CholCheck             6.507670e-06  TRUE      \n",
       "22 MentHlth Smoker                4.497566e-61  TRUE      \n",
       "23 MentHlth Stroke                1.834793e-73  TRUE      \n",
       "24 MentHlth HeartDiseaseorAttack  3.030878e-42  TRUE      \n",
       "25 MentHlth PhysActivity         3.358971e-149  TRUE      \n",
       "26 MentHlth Fruits                2.455635e-57  TRUE      \n",
       "27 MentHlth Veggies               2.246014e-27  TRUE      \n",
       "28 MentHlth HvyAlcoholConsump     9.775219e-11  TRUE      \n",
       "29 MentHlth AnyHealthcare         3.605627e-35  TRUE      \n",
       "30 MentHlth NoDocbcCost           0.000000e+00  TRUE      \n",
       "31 MentHlth GenHlth               0.000000e+00  TRUE      \n",
       "32 MentHlth DiffWalk              0.000000e+00  TRUE      \n",
       "33 MentHlth Sex                  2.472722e-254  TRUE      \n",
       "34 MentHlth Age                   0.000000e+00  TRUE      \n",
       "35 MentHlth Education             2.424589e-90  TRUE      \n",
       "36 MentHlth Income                0.000000e+00  TRUE      "
      ]
     },
     "metadata": {},
     "output_type": "display_data"
    }
   ],
   "source": [
    "df_kw_test <- NULL\n",
    "for (var2 in c(\"PhysHlth\", \"MentHlth\")){\n",
    "  for (var1 in var_discrete) {\n",
    "    formula <- as.formula(paste(var2, \"~\", var1))\n",
    "    kruskal_test_result <- kruskal.test(formula, data = df0)\n",
    "    p_value <- kruskal_test_result$p.value\n",
    "    df_kw_test <- rbind(df_kw_test, c(var2, var1, p_value))\n",
    "  }\n",
    "}\n",
    "df_kw_test <- as.data.frame(df_kw_test) %>%\n",
    "  rename(\"response\" = \"V1\", \"group\" = \"V2\", \"p_value\" = \"V3\") %>%\n",
    "  mutate(p_value = as.numeric(p_value)) %>%\n",
    "  mutate(significant = (p_value < 0.05))\n",
    "rm(formula, kruskal_test_result, p_value, var1, var2)\n",
    "df_kw_test"
   ]
  },
  {
   "cell_type": "markdown",
   "metadata": {},
   "source": [
    "* `PhysHlth` and `MentHlth` do not follow normal distribution. Therefore, instead of one-way ANOVA, Kruskal-Wallis test was performed\n",
    "* Almost all pairs have a significatn relationship except `PhysHlth` and `AnyHealthcare`"
   ]
  },
  {
   "cell_type": "markdown",
   "metadata": {},
   "source": [
    "##### Spearman's rank correlation coefficient"
   ]
  },
  {
   "cell_type": "code",
   "execution_count": 23,
   "metadata": {
    "vscode": {
     "languageId": "r"
    }
   },
   "outputs": [
    {
     "data": {
      "text/html": [
       "<table class=\"dataframe\">\n",
       "<caption>A data.frame: 3 x 3</caption>\n",
       "<thead>\n",
       "\t<tr><th scope=col>V1</th><th scope=col>V2</th><th scope=col>rho</th></tr>\n",
       "\t<tr><th scope=col>&lt;chr&gt;</th><th scope=col>&lt;chr&gt;</th><th scope=col>&lt;dbl&gt;</th></tr>\n",
       "</thead>\n",
       "<tbody>\n",
       "\t<tr><td>BMI     </td><td>MentHlth</td><td>0.08693178</td></tr>\n",
       "\t<tr><td>BMI     </td><td>PhysHlth</td><td>0.16651402</td></tr>\n",
       "\t<tr><td>MentHlth</td><td>PhysHlth</td><td>0.34533693</td></tr>\n",
       "</tbody>\n",
       "</table>\n"
      ],
      "text/latex": [
       "A data.frame: 3 x 3\n",
       "\\begin{tabular}{lll}\n",
       " V1 & V2 & rho\\\\\n",
       " <chr> & <chr> & <dbl>\\\\\n",
       "\\hline\n",
       "\t BMI      & MentHlth & 0.08693178\\\\\n",
       "\t BMI      & PhysHlth & 0.16651402\\\\\n",
       "\t MentHlth & PhysHlth & 0.34533693\\\\\n",
       "\\end{tabular}\n"
      ],
      "text/markdown": [
       "\n",
       "A data.frame: 3 x 3\n",
       "\n",
       "| V1 &lt;chr&gt; | V2 &lt;chr&gt; | rho &lt;dbl&gt; |\n",
       "|---|---|---|\n",
       "| BMI      | MentHlth | 0.08693178 |\n",
       "| BMI      | PhysHlth | 0.16651402 |\n",
       "| MentHlth | PhysHlth | 0.34533693 |\n",
       "\n"
      ],
      "text/plain": [
       "  V1       V2       rho       \n",
       "1 BMI      MentHlth 0.08693178\n",
       "2 BMI      PhysHlth 0.16651402\n",
       "3 MentHlth PhysHlth 0.34533693"
      ]
     },
     "metadata": {},
     "output_type": "display_data"
    }
   ],
   "source": [
    "df_corr <- as.data.frame(t(combn(var_continuous, 2))) %>%\n",
    "  mutate(rho = NA)\n",
    "for (i in seq_len(nrow(df_corr))) {\n",
    "  var1 <- df0[df_corr[i, 1]]\n",
    "  var2 <- df0[df_corr[i, 2]]\n",
    "  df_corr[i, 3] <- cor(var1, var2, method = \"spearman\")\n",
    "}\n",
    "df_corr\n",
    "rm(i, var1, var2)"
   ]
  },
  {
   "cell_type": "markdown",
   "metadata": {},
   "source": [
    "* The continuous variables have weak relationship between each other"
   ]
  },
  {
   "cell_type": "markdown",
   "metadata": {},
   "source": [
    "### Feature engineering"
   ]
  },
  {
   "cell_type": "markdown",
   "metadata": {},
   "source": [
    "Variables can be divided into groups \n",
    "1. Chronic disease: `HighBP`, `HighChol`, `Stroke`, `HeartDiseaseorAttack` \n",
    "2. Demographic: `Sex`, `Age`, `BMI`\n",
    "3. Diet: `Fruits`, `Veggies`\n",
    "4. Physical activity: `DiffWalk`, `PhysActivity`\n",
    "5. Bad lifestyle: `Smoker`, `HvyAlcoholConsump`\n",
    "6. Ability to access to health care service or health knowledge: `CholCheck`, `AnyHealthcare`, `NoDocbcCost`, `Education`, `Income`\n",
    "7. Self assessment: `GenHlth`, `MentHlth`, `PhysHlth`   "
   ]
  },
  {
   "cell_type": "markdown",
   "metadata": {},
   "source": [
    "To prevent from overfit and facilitate the interpretation, the following actions will be done\n",
    "1. Creat a new variable `cvd` representing the cardiovascular diseases including high blood pressure, high cholesterol, stroke, coronary heart disease (CHD), and myocardial infarction (heart attack)\n",
    "2. Keep all demographic variables\n",
    "3. Create a new variable `healthy_diet` which combines `Fruits` and `Veggies` and represents whether the person has a healthy diet\n",
    "4. Only include `PhysActivity`. Having difficulty in walking may be due to the injury, age or musculoskeletal disorders\n",
    "5. Keep all variables related to bad lifestyle\n",
    "6. Select `NoDocbcCost` only. The relationship between the target and `Education` is so not absolute, so it did not be included. \n",
    "7. To avoid recall bias, all of them will not be selected. "
   ]
  },
  {
   "cell_type": "code",
   "execution_count": 24,
   "metadata": {
    "vscode": {
     "languageId": "r"
    }
   },
   "outputs": [],
   "source": [
    "condition1 <- df0$HighBP == 0 & df0$HighChol == 0 &\n",
    "  df0$HeartDiseaseorAttack == 0 & df0$Stroke == 0\n",
    "condition2 <- df0$Fruits == 0 & df0$Veggies == 0\n",
    "df1 <- df0 %>%\n",
    "  mutate(cvd = ifelse(condition1, 0, 1)) %>%\n",
    "  mutate(healthy_diet = ifelse(condition2, 0, 1))\n",
    "rm(condition1, condition2)"
   ]
  },
  {
   "cell_type": "markdown",
   "metadata": {},
   "source": [
    "### Data partition"
   ]
  },
  {
   "cell_type": "code",
   "execution_count": 25,
   "metadata": {
    "vscode": {
     "languageId": "r"
    }
   },
   "outputs": [
    {
     "name": "stdout",
     "output_type": "stream",
     "text": [
      "Number of rows in training set:  56554 \n",
      "Number of columns in training set:  24 \n",
      "Number of rows in test set:  14138 \n",
      "Number of columns in test set:  24"
     ]
    }
   ],
   "source": [
    "set.seed(111)\n",
    "index <- createDataPartition(df1[[target]], p = 0.8, list = FALSE, times = 1)\n",
    "df_train <- df1[index, ]\n",
    "df_test <- df1[-index, ]\n",
    "cat(\"Number of rows in training set: \", nrow(df_train), \"\\n\")\n",
    "cat(\"Number of columns in training set: \", ncol(df_train), \"\\n\")\n",
    "cat(\"Number of rows in test set: \", nrow(df_test), \"\\n\")\n",
    "cat(\"Number of columns in test set: \", ncol(df_test))"
   ]
  },
  {
   "cell_type": "markdown",
   "metadata": {},
   "source": [
    "### Model building"
   ]
  },
  {
   "cell_type": "markdown",
   "metadata": {},
   "source": [
    "#### Model 1: Without feature engineering"
   ]
  },
  {
   "cell_type": "code",
   "execution_count": 26,
   "metadata": {
    "vscode": {
     "languageId": "r"
    }
   },
   "outputs": [
    {
     "data": {
      "text/plain": [
       "\n",
       "Call:\n",
       "glm2(formula = formula, family = binomial, data = df)\n",
       "\n",
       "Coefficients:\n",
       "                                           Estimate Std. Error z value Pr(>|z|)\n",
       "(Intercept)                               -7.226495   0.381216 -18.956  < 2e-16\n",
       "HighBP1                                    0.709603   0.022196  31.970  < 2e-16\n",
       "HighChol1                                  0.551872   0.021291  25.920  < 2e-16\n",
       "CholCheck1                                 1.350255   0.092063  14.667  < 2e-16\n",
       "BMI                                        0.072556   0.001784  40.680  < 2e-16\n",
       "Smoker1                                   -0.021986   0.021322  -1.031  0.30248\n",
       "Stroke1                                    0.220064   0.046245   4.759 1.95e-06\n",
       "HeartDiseaseorAttack1                      0.283141   0.032038   8.838  < 2e-16\n",
       "PhysActivity1                             -0.017523   0.023906  -0.733  0.46357\n",
       "Fruits1                                   -0.031861   0.022065  -1.444  0.14874\n",
       "Veggies1                                  -0.039533   0.026182  -1.510  0.13106\n",
       "HvyAlcoholConsump1                        -0.755148   0.054930 -13.747  < 2e-16\n",
       "AnyHealthcare1                             0.051701   0.052893   0.977  0.32834\n",
       "NoDocbcCost1                               0.017344   0.038260   0.453  0.65033\n",
       "GenHlthVery Good                           0.752310   0.043071  17.467  < 2e-16\n",
       "GenHlthGood                                1.466343   0.042684  34.353  < 2e-16\n",
       "GenHlthFair                                1.909112   0.049065  38.910  < 2e-16\n",
       "GenHlthPoor                                2.087895   0.065101  32.071  < 2e-16\n",
       "MentHlth                                  -0.003623   0.001448  -2.502  0.01234\n",
       "PhysHlth                                  -0.003779   0.001396  -2.708  0.00678\n",
       "DiffWalk1                                  0.143870   0.029140   4.937 7.93e-07\n",
       "Sex1                                       0.295298   0.021636  13.649  < 2e-16\n",
       "Age25-29                                   0.090846   0.181132   0.502  0.61599\n",
       "Age30-34                                   0.348055   0.163801   2.125  0.03360\n",
       "Age35-39                                   0.702994   0.155768   4.513 6.39e-06\n",
       "Age40-44                                   1.002298   0.152353   6.579 4.74e-11\n",
       "Age45-49                                   1.188147   0.149946   7.924 2.30e-15\n",
       "Age50-54                                   1.432916   0.148127   9.674  < 2e-16\n",
       "Age55-59                                   1.499098   0.147453  10.167  < 2e-16\n",
       "Age60-64                                   1.767938   0.147164  12.013  < 2e-16\n",
       "Age65-69                                   1.894275   0.147215  12.867  < 2e-16\n",
       "Age70-74                                   2.021637   0.148064  13.654  < 2e-16\n",
       "Age75-79                                   1.975136   0.149466  13.215  < 2e-16\n",
       "Age80 or older                             1.898258   0.149542  12.694  < 2e-16\n",
       "EducationElementary                        0.517363   0.338693   1.528  0.12663\n",
       "EducationSome high school                  0.386545   0.334560   1.155  0.24793\n",
       "EducationHigh school graduate              0.305433   0.331953   0.920  0.35752\n",
       "EducationSome college or technical school  0.322679   0.332107   0.972  0.33124\n",
       "EducationCollege graduate                  0.236462   0.332254   0.712  0.47666\n",
       "Income$10,000 to less than $15,000         0.035241   0.063628   0.554  0.57968\n",
       "Income$15,000 to less than $20,000        -0.051499   0.060315  -0.854  0.39320\n",
       "Income$20,000 to less than $25,000        -0.060127   0.058743  -1.024  0.30604\n",
       "Income$25,000 to less than $35,000        -0.181685   0.057616  -3.153  0.00161\n",
       "Income$35,000 to less than $50,000        -0.251999   0.056392  -4.469 7.87e-06\n",
       "Income$50,000 to less than $75,000        -0.265780   0.056569  -4.698 2.62e-06\n",
       "Income$75,000 or more                     -0.419915   0.055749  -7.532 4.99e-14\n",
       "                                             \n",
       "(Intercept)                               ***\n",
       "HighBP1                                   ***\n",
       "HighChol1                                 ***\n",
       "CholCheck1                                ***\n",
       "BMI                                       ***\n",
       "Smoker1                                      \n",
       "Stroke1                                   ***\n",
       "HeartDiseaseorAttack1                     ***\n",
       "PhysActivity1                                \n",
       "Fruits1                                      \n",
       "Veggies1                                     \n",
       "HvyAlcoholConsump1                        ***\n",
       "AnyHealthcare1                               \n",
       "NoDocbcCost1                                 \n",
       "GenHlthVery Good                          ***\n",
       "GenHlthGood                               ***\n",
       "GenHlthFair                               ***\n",
       "GenHlthPoor                               ***\n",
       "MentHlth                                  *  \n",
       "PhysHlth                                  ** \n",
       "DiffWalk1                                 ***\n",
       "Sex1                                      ***\n",
       "Age25-29                                     \n",
       "Age30-34                                  *  \n",
       "Age35-39                                  ***\n",
       "Age40-44                                  ***\n",
       "Age45-49                                  ***\n",
       "Age50-54                                  ***\n",
       "Age55-59                                  ***\n",
       "Age60-64                                  ***\n",
       "Age65-69                                  ***\n",
       "Age70-74                                  ***\n",
       "Age75-79                                  ***\n",
       "Age80 or older                            ***\n",
       "EducationElementary                          \n",
       "EducationSome high school                    \n",
       "EducationHigh school graduate                \n",
       "EducationSome college or technical school    \n",
       "EducationCollege graduate                    \n",
       "Income$10,000 to less than $15,000           \n",
       "Income$15,000 to less than $20,000           \n",
       "Income$20,000 to less than $25,000           \n",
       "Income$25,000 to less than $35,000        ** \n",
       "Income$35,000 to less than $50,000        ***\n",
       "Income$50,000 to less than $75,000        ***\n",
       "Income$75,000 or more                     ***\n",
       "---\n",
       "Signif. codes:  0 '***' 0.001 '**' 0.01 '*' 0.05 '.' 0.1 ' ' 1\n",
       "\n",
       "(Dispersion parameter for binomial family taken to be 1)\n",
       "\n",
       "    Null deviance: 78400  on 56553  degrees of freedom\n",
       "Residual deviance: 57343  on 56508  degrees of freedom\n",
       "AIC: 57435\n",
       "\n",
       "Number of Fisher Scoring iterations: 5\n"
      ]
     },
     "metadata": {},
     "output_type": "display_data"
    }
   ],
   "source": [
    "columns <- colnames(df0)\n",
    "df <- df_train[, columns]\n",
    "features <- setdiff(colnames(df), target)\n",
    "x <- paste(features, collapse = \" + \")\n",
    "formula <- as.formula(paste(target, \"~\", x))\n",
    "model1 <- glm2(formula, family = binomial, data = df)\n",
    "summary(model1)"
   ]
  },
  {
   "cell_type": "markdown",
   "metadata": {},
   "source": [
    "* Although the model shows `BMI` and `Age` are statistically significant variables, some well-known factors according to [CDC](https://www.cdc.gov/diabetes/basics/risk-factors.html) such as physical activity and healthy diet do not show significant result"
   ]
  },
  {
   "cell_type": "markdown",
   "metadata": {},
   "source": [
    "#### Model 2: With feature engineering"
   ]
  },
  {
   "cell_type": "code",
   "execution_count": 27,
   "metadata": {
    "vscode": {
     "languageId": "r"
    }
   },
   "outputs": [
    {
     "data": {
      "text/plain": [
       "\n",
       "Call:\n",
       "glm2(formula = formula, family = binomial, data = df)\n",
       "\n",
       "Coefficients:\n",
       "                    Estimate Std. Error z value Pr(>|z|)    \n",
       "(Intercept)        -5.222181   0.155654 -33.550  < 2e-16 ***\n",
       "cvd                 1.298584   0.025235  51.460  < 2e-16 ***\n",
       "Sex1                0.203548   0.019637  10.365  < 2e-16 ***\n",
       "Age25-29           -0.012930   0.179822  -0.072    0.943    \n",
       "Age30-34            0.242503   0.162169   1.495    0.135    \n",
       "Age35-39            0.601723   0.154015   3.907 9.35e-05 ***\n",
       "Age40-44            0.885917   0.150567   5.884 4.01e-09 ***\n",
       "Age45-49            1.146344   0.148238   7.733 1.05e-14 ***\n",
       "Age50-54            1.415157   0.146518   9.659  < 2e-16 ***\n",
       "Age55-59            1.525555   0.145860  10.459  < 2e-16 ***\n",
       "Age60-64            1.828774   0.145585  12.562  < 2e-16 ***\n",
       "Age65-69            1.966110   0.145566  13.507  < 2e-16 ***\n",
       "Age70-74            2.146132   0.146324  14.667  < 2e-16 ***\n",
       "Age75-79            2.184707   0.147592  14.802  < 2e-16 ***\n",
       "Age80 or older      2.206327   0.147530  14.955  < 2e-16 ***\n",
       "BMI                 0.093788   0.001691  55.452  < 2e-16 ***\n",
       "healthy_diet       -0.159527   0.029330  -5.439 5.36e-08 ***\n",
       "PhysActivity1      -0.331322   0.021737 -15.242  < 2e-16 ***\n",
       "Smoker1             0.154617   0.019684   7.855 4.00e-15 ***\n",
       "HvyAlcoholConsump1 -0.884910   0.051869 -17.061  < 2e-16 ***\n",
       "NoDocbcCost1        0.384962   0.034525  11.150  < 2e-16 ***\n",
       "---\n",
       "Signif. codes:  0 '***' 0.001 '**' 0.01 '*' 0.05 '.' 0.1 ' ' 1\n",
       "\n",
       "(Dispersion parameter for binomial family taken to be 1)\n",
       "\n",
       "    Null deviance: 78400  on 56553  degrees of freedom\n",
       "Residual deviance: 62968  on 56533  degrees of freedom\n",
       "AIC: 63010\n",
       "\n",
       "Number of Fisher Scoring iterations: 5\n"
      ]
     },
     "metadata": {},
     "output_type": "display_data"
    }
   ],
   "source": [
    "columns <- c(\"Diabetes_binary\", \"cvd\", \"Sex\", \"Age\", \"BMI\",\n",
    "             \"healthy_diet\", \"PhysActivity\",\n",
    "             \"Smoker\", \"HvyAlcoholConsump\",\n",
    "             \"NoDocbcCost\")\n",
    "df <- df_train[, columns]\n",
    "features <- setdiff(colnames(df), target)\n",
    "x <- paste(features, collapse = \" + \")\n",
    "formula <- as.formula(paste(target, \"~\", x))\n",
    "model2 <- glm2(formula, family = binomial, data = df)\n",
    "summary(model2)"
   ]
  },
  {
   "cell_type": "markdown",
   "metadata": {},
   "source": [
    "* When a simpler model is fitted, there is significant evidence to conclude that engaging in physical exercise and maintaining a healthy diet is associated with a decrease in the log-odds of developing pre-diabetes or diabetes"
   ]
  },
  {
   "cell_type": "markdown",
   "metadata": {},
   "source": [
    "#### Model 3: With interaction"
   ]
  },
  {
   "cell_type": "code",
   "execution_count": 29,
   "metadata": {
    "vscode": {
     "languageId": "r"
    }
   },
   "outputs": [
    {
     "name": "stdout",
     "output_type": "stream",
     "text": [
      "Start:  AIC=62934.95\n",
      "Diabetes_binary ~ cvd + Sex + Age + BMI + healthy_diet + PhysActivity + \n",
      "    Smoker + HvyAlcoholConsump + NoDocbcCost + cvd:Sex + cvd:Age + \n",
      "    cvd:BMI + cvd:healthy_diet + cvd:PhysActivity + cvd:Smoker + \n",
      "    cvd:HvyAlcoholConsump + cvd:NoDocbcCost + Age:BMI + Age:PhysActivity + \n",
      "    BMI:healthy_diet + BMI:PhysActivity\n",
      "\n",
      "                        Df Deviance   AIC\n",
      "- Age:PhysActivity      12    62816 62924\n",
      "- cvd:Smoker             1    62803 62933\n",
      "- cvd:PhysActivity       1    62803 62933\n",
      "- cvd:HvyAlcoholConsump  1    62803 62933\n",
      "- cvd:NoDocbcCost        1    62803 62933\n",
      "- cvd:healthy_diet       1    62804 62934\n",
      "<none>                        62803 62935\n",
      "- BMI:healthy_diet       1    62806 62936\n",
      "- cvd:BMI                1    62807 62937\n",
      "- cvd:Sex                1    62809 62939\n",
      "- BMI:PhysActivity       1    62825 62955\n",
      "- Age:BMI               12    62861 62969\n",
      "- cvd:Age               12    62864 62972\n",
      "\n",
      "Step:  AIC=62924.46\n",
      "Diabetes_binary ~ cvd + Sex + Age + BMI + healthy_diet + PhysActivity + \n",
      "    Smoker + HvyAlcoholConsump + NoDocbcCost + cvd:Sex + cvd:Age + \n",
      "    cvd:BMI + cvd:healthy_diet + cvd:PhysActivity + cvd:Smoker + \n",
      "    cvd:HvyAlcoholConsump + cvd:NoDocbcCost + Age:BMI + BMI:healthy_diet + \n",
      "    BMI:PhysActivity\n",
      "\n",
      "                        Df Deviance   AIC\n",
      "- cvd:Smoker             1    62817 62923\n",
      "- cvd:PhysActivity       1    62817 62923\n",
      "- cvd:HvyAlcoholConsump  1    62817 62923\n",
      "- cvd:NoDocbcCost        1    62817 62923\n",
      "- cvd:healthy_diet       1    62818 62924\n",
      "<none>                        62816 62924\n",
      "- BMI:healthy_diet       1    62819 62925\n",
      "- cvd:BMI                1    62820 62926\n",
      "- cvd:Sex                1    62822 62928\n",
      "- BMI:PhysActivity       1    62839 62945\n",
      "- Age:BMI               12    62874 62958\n",
      "- cvd:Age               12    62877 62961\n",
      "\n",
      "Step:  AIC=62922.5\n",
      "Diabetes_binary ~ cvd + Sex + Age + BMI + healthy_diet + PhysActivity + \n",
      "    Smoker + HvyAlcoholConsump + NoDocbcCost + cvd:Sex + cvd:Age + \n",
      "    cvd:BMI + cvd:healthy_diet + cvd:PhysActivity + cvd:HvyAlcoholConsump + \n",
      "    cvd:NoDocbcCost + Age:BMI + BMI:healthy_diet + BMI:PhysActivity\n",
      "\n",
      "                        Df Deviance   AIC\n",
      "- cvd:PhysActivity       1    62817 62921\n",
      "- cvd:HvyAlcoholConsump  1    62817 62921\n",
      "- cvd:NoDocbcCost        1    62817 62921\n",
      "- cvd:healthy_diet       1    62818 62922\n",
      "<none>                        62817 62923\n",
      "- BMI:healthy_diet       1    62819 62923\n",
      "- cvd:BMI                1    62820 62924\n",
      "- cvd:Sex                1    62822 62926\n",
      "- BMI:PhysActivity       1    62839 62943\n",
      "- Age:BMI               12    62874 62956\n",
      "- cvd:Age               12    62877 62959\n",
      "- Smoker                 1    62879 62983\n",
      "\n",
      "Step:  AIC=62920.64\n",
      "Diabetes_binary ~ cvd + Sex + Age + BMI + healthy_diet + PhysActivity + \n",
      "    Smoker + HvyAlcoholConsump + NoDocbcCost + cvd:Sex + cvd:Age + \n",
      "    cvd:BMI + cvd:healthy_diet + cvd:HvyAlcoholConsump + cvd:NoDocbcCost + \n",
      "    Age:BMI + BMI:healthy_diet + BMI:PhysActivity\n",
      "\n",
      "                        Df Deviance   AIC\n",
      "- cvd:HvyAlcoholConsump  1    62817 62919\n",
      "- cvd:NoDocbcCost        1    62817 62919\n",
      "- cvd:healthy_diet       1    62818 62920\n",
      "<none>                        62817 62921\n",
      "- BMI:healthy_diet       1    62819 62921\n",
      "- cvd:BMI                1    62820 62922\n",
      "- cvd:Sex                1    62822 62924\n",
      "- BMI:PhysActivity       1    62839 62941\n",
      "- Age:BMI               12    62874 62954\n",
      "- cvd:Age               12    62878 62958\n",
      "- Smoker                 1    62879 62981\n",
      "\n",
      "Step:  AIC=62918.9\n",
      "Diabetes_binary ~ cvd + Sex + Age + BMI + healthy_diet + PhysActivity + \n",
      "    Smoker + HvyAlcoholConsump + NoDocbcCost + cvd:Sex + cvd:Age + \n",
      "    cvd:BMI + cvd:healthy_diet + cvd:NoDocbcCost + Age:BMI + \n",
      "    BMI:healthy_diet + BMI:PhysActivity\n",
      "\n",
      "                    Df Deviance   AIC\n",
      "- cvd:NoDocbcCost    1    62817 62917\n",
      "- cvd:healthy_diet   1    62818 62918\n",
      "<none>                    62817 62919\n",
      "- BMI:healthy_diet   1    62820 62920\n",
      "- cvd:BMI            1    62821 62921\n",
      "- cvd:Sex            1    62823 62923\n",
      "- BMI:PhysActivity   1    62840 62940\n",
      "- Age:BMI           12    62874 62952\n",
      "- cvd:Age           12    62879 62957\n",
      "- Smoker             1    62880 62980\n",
      "- HvyAlcoholConsump  1    63122 63222\n",
      "\n",
      "Step:  AIC=62917.24\n",
      "Diabetes_binary ~ cvd + Sex + Age + BMI + healthy_diet + PhysActivity + \n",
      "    Smoker + HvyAlcoholConsump + NoDocbcCost + cvd:Sex + cvd:Age + \n",
      "    cvd:BMI + cvd:healthy_diet + Age:BMI + BMI:healthy_diet + \n",
      "    BMI:PhysActivity\n",
      "\n",
      "                    Df Deviance   AIC\n",
      "- cvd:healthy_diet   1    62819 62917\n",
      "<none>                    62817 62917\n",
      "- BMI:healthy_diet   1    62820 62918\n",
      "- cvd:BMI            1    62821 62919\n",
      "- cvd:Sex            1    62823 62921\n",
      "- BMI:PhysActivity   1    62840 62938\n",
      "- Age:BMI           12    62875 62951\n",
      "- cvd:Age           12    62879 62955\n",
      "- Smoker             1    62880 62978\n",
      "- NoDocbcCost        1    62940 63038\n",
      "- HvyAlcoholConsump  1    63122 63220\n",
      "\n",
      "Step:  AIC=62916.52\n",
      "Diabetes_binary ~ cvd + Sex + Age + BMI + healthy_diet + PhysActivity + \n",
      "    Smoker + HvyAlcoholConsump + NoDocbcCost + cvd:Sex + cvd:Age + \n",
      "    cvd:BMI + Age:BMI + BMI:healthy_diet + BMI:PhysActivity\n",
      "\n",
      "                    Df Deviance   AIC\n",
      "<none>                    62819 62917\n",
      "- BMI:healthy_diet   1    62821 62917\n",
      "- cvd:BMI            1    62822 62918\n",
      "- cvd:Sex            1    62824 62920\n",
      "- BMI:PhysActivity   1    62841 62937\n",
      "- Age:BMI           12    62876 62950\n",
      "- cvd:Age           12    62881 62955\n",
      "- Smoker             1    62881 62977\n",
      "- NoDocbcCost        1    62941 63037\n",
      "- HvyAlcoholConsump  1    63124 63220\n"
     ]
    }
   ],
   "source": [
    "formula <- as.formula(\"Diabetes_binary ~ cvd + Sex + Age + BMI + healthy_diet + PhysActivity + Smoker + HvyAlcoholConsump + NoDocbcCost + cvd:Sex + cvd:Age + cvd:BMI + cvd:healthy_diet + cvd:PhysActivity + cvd:Smoker + cvd:HvyAlcoholConsump + cvd:NoDocbcCost + Age:BMI + Age:PhysActivity + BMI:healthy_diet + BMI:PhysActivity\")\n",
    "model3 <- glm2(formula, family = binomial, data = df)\n",
    "model3_final <- step(model3, direction = \"backward\")"
   ]
  },
  {
   "cell_type": "code",
   "execution_count": 31,
   "metadata": {
    "vscode": {
     "languageId": "r"
    }
   },
   "outputs": [
    {
     "data": {
      "text/plain": [
       "\n",
       "Call:\n",
       "glm2(formula = Diabetes_binary ~ cvd + Sex + Age + BMI + healthy_diet + \n",
       "    PhysActivity + Smoker + HvyAlcoholConsump + NoDocbcCost + \n",
       "    cvd:Sex + cvd:Age + cvd:BMI + Age:BMI + BMI:healthy_diet + \n",
       "    BMI:PhysActivity, family = binomial, data = df)\n",
       "\n",
       "Coefficients:\n",
       "                     Estimate Std. Error z value Pr(>|z|)    \n",
       "(Intercept)        -3.9246929  0.5453117  -7.197 6.15e-13 ***\n",
       "cvd                 1.6265748  0.3132972   5.192 2.08e-07 ***\n",
       "Sex1                0.2860433  0.0445768   6.417 1.39e-10 ***\n",
       "Age25-29           -0.1034578  0.6437111  -0.161  0.87231    \n",
       "Age30-34            0.3075707  0.5948154   0.517  0.60510    \n",
       "Age35-39            0.1151418  0.5846991   0.197  0.84389    \n",
       "Age40-44           -0.1761558  0.5734209  -0.307  0.75869    \n",
       "Age45-49            0.4737228  0.5604655   0.845  0.39798    \n",
       "Age50-54            0.5973413  0.5512339   1.084  0.27852    \n",
       "Age55-59            0.3942959  0.5491455   0.718  0.47275    \n",
       "Age60-64            0.3782342  0.5498440   0.688  0.49152    \n",
       "Age65-69            0.6600267  0.5496553   1.201  0.22983    \n",
       "Age70-74            1.0178992  0.5574437   1.826  0.06785 .  \n",
       "Age75-79            1.2353421  0.5718159   2.160  0.03074 *  \n",
       "Age80 or older      1.4183040  0.5712565   2.483  0.01304 *  \n",
       "BMI                 0.0480722  0.0181678   2.646  0.00814 ** \n",
       "healthy_diet       -0.3840785  0.1429141  -2.687  0.00720 ** \n",
       "PhysActivity1      -0.8143526  0.1047008  -7.778 7.37e-15 ***\n",
       "Smoker1             0.1563453  0.0197256   7.926 2.26e-15 ***\n",
       "HvyAlcoholConsump1 -0.8812693  0.0519523 -16.963  < 2e-16 ***\n",
       "NoDocbcCost1        0.3808341  0.0345641  11.018  < 2e-16 ***\n",
       "cvd:Sex1           -0.1152902  0.0494909  -2.330  0.01983 *  \n",
       "cvd:Age25-29        0.3214850  0.3585901   0.897  0.36997    \n",
       "cvd:Age30-34       -0.1798385  0.3233329  -0.556  0.57807    \n",
       "cvd:Age35-39        0.1555533  0.3103541   0.501  0.61622    \n",
       "cvd:Age40-44        0.1071203  0.3046823   0.352  0.72515    \n",
       "cvd:Age45-49        0.0315508  0.2993677   0.105  0.91607    \n",
       "cvd:Age50-54        0.1074257  0.2963504   0.362  0.71698    \n",
       "cvd:Age55-59        0.0877601  0.2953986   0.297  0.76640    \n",
       "cvd:Age60-64        0.0022270  0.2950406   0.008  0.99398    \n",
       "cvd:Age65-69       -0.0156893  0.2956514  -0.053  0.95768    \n",
       "cvd:Age70-74       -0.2085481  0.2988341  -0.698  0.48526    \n",
       "cvd:Age75-79       -0.3664466  0.3044260  -1.204  0.22869    \n",
       "cvd:Age80 or older -0.5787819  0.3021158  -1.916  0.05540 .  \n",
       "cvd:BMI            -0.0079102  0.0041573  -1.903  0.05708 .  \n",
       "Age25-29:BMI        0.0001745  0.0207181   0.008  0.99328    \n",
       "Age30-34:BMI        0.0035410  0.0194783   0.182  0.85575    \n",
       "Age35-39:BMI        0.0149001  0.0192113   0.776  0.43799    \n",
       "Age40-44:BMI        0.0334689  0.0188665   1.774  0.07607 .  \n",
       "Age45-49:BMI        0.0225565  0.0185649   1.215  0.22436    \n",
       "Age50-54:BMI        0.0250828  0.0183207   1.369  0.17097    \n",
       "Age55-59:BMI        0.0356321  0.0182573   1.952  0.05098 .  \n",
       "Age60-64:BMI        0.0486703  0.0183103   2.658  0.00786 ** \n",
       "Age65-69:BMI        0.0444019  0.0183039   2.426  0.01527 *  \n",
       "Age70-74:BMI        0.0442433  0.0186036   2.378  0.01740 *  \n",
       "Age75-79:BMI        0.0430302  0.0190964   2.253  0.02424 *  \n",
       "Age80 or older:BMI  0.0439835  0.0192967   2.279  0.02265 *  \n",
       "BMI:healthy_diet    0.0074646  0.0046410   1.608  0.10774    \n",
       "BMI:PhysActivity1   0.0163335  0.0034136   4.785 1.71e-06 ***\n",
       "---\n",
       "Signif. codes:  0 '***' 0.001 '**' 0.01 '*' 0.05 '.' 0.1 ' ' 1\n",
       "\n",
       "(Dispersion parameter for binomial family taken to be 1)\n",
       "\n",
       "    Null deviance: 78400  on 56553  degrees of freedom\n",
       "Residual deviance: 62819  on 56505  degrees of freedom\n",
       "AIC: 62917\n",
       "\n",
       "Number of Fisher Scoring iterations: 5\n"
      ]
     },
     "metadata": {},
     "output_type": "display_data"
    }
   ],
   "source": [
    "summary(model3_final)"
   ]
  },
  {
   "cell_type": "markdown",
   "metadata": {},
   "source": [
    "* After considering the interaction, the model becomes less certain about the relationship between age and our target variable\n",
    "* Due to the interpretation and the simplicity, the additive model i.e. Model 2 was selected"
   ]
  },
  {
   "cell_type": "markdown",
   "metadata": {},
   "source": [
    "#### Model evaluation"
   ]
  },
  {
   "cell_type": "code",
   "execution_count": 32,
   "metadata": {
    "vscode": {
     "languageId": "r"
    }
   },
   "outputs": [],
   "source": [
    "model_evaluation <- function(model, data, target_name) {\n",
    "    predicted_prob <- predict(model, newdata = data, type = \"response\")\n",
    "    predict <- (predicted_prob >= 0.5)\n",
    "    confusion_matrix <- table(data[[target_name]], predict)\n",
    "    print(\"Confusion matrix: \")\n",
    "    print(confusion_matrix)\n",
    "    accuracy_test <- (confusion_matrix[1,1] + confusion_matrix[2,2])/nrow(data)\n",
    "    print(accuracy_test)\n",
    "    roc_curve <- roc(data[[target_name]], predicted_prob)\n",
    "    auc_value <- auc(roc_curve)\n",
    "    print(auc_value)\n",
    "}"
   ]
  },
  {
   "cell_type": "code",
   "execution_count": 33,
   "metadata": {
    "vscode": {
     "languageId": "r"
    }
   },
   "outputs": [
    {
     "name": "stdout",
     "output_type": "stream",
     "text": [
      "[1] \"Confusion matrix: \"\n",
      "   predict\n",
      "    FALSE TRUE\n",
      "  0  4509 2560\n",
      "  1  1525 5544\n",
      "[1] 0.7110624\n"
     ]
    },
    {
     "name": "stderr",
     "output_type": "stream",
     "text": [
      "Setting levels: control = 0, case = 1\n",
      "\n",
      "Setting direction: controls < cases\n",
      "\n"
     ]
    },
    {
     "name": "stdout",
     "output_type": "stream",
     "text": [
      "Area under the curve: 0.7839\n"
     ]
    }
   ],
   "source": [
    "model_evaluation(model2, df_test, target)"
   ]
  },
  {
   "cell_type": "code",
   "execution_count": 34,
   "metadata": {
    "vscode": {
     "languageId": "r"
    }
   },
   "outputs": [
    {
     "name": "stdout",
     "output_type": "stream",
     "text": [
      "[1] \"Confusion matrix: \"\n",
      "   predict\n",
      "    FALSE TRUE\n",
      "  0  4530 2539\n",
      "  1  1540 5529\n",
      "[1] 0.7114868\n"
     ]
    },
    {
     "name": "stderr",
     "output_type": "stream",
     "text": [
      "Setting levels: control = 0, case = 1\n",
      "\n",
      "Setting direction: controls < cases\n",
      "\n"
     ]
    },
    {
     "name": "stdout",
     "output_type": "stream",
     "text": [
      "Area under the curve: 0.7856\n"
     ]
    }
   ],
   "source": [
    "model_evaluation(model3_final, df_test, target)"
   ]
  },
  {
   "cell_type": "markdown",
   "metadata": {},
   "source": [
    "* When comparing the accuracy and AUC of Model 2 and Model 3, Model 3 did not have a better performance"
   ]
  },
  {
   "cell_type": "markdown",
   "metadata": {},
   "source": [
    "#### Model interpretation"
   ]
  },
  {
   "cell_type": "code",
   "execution_count": 38,
   "metadata": {
    "vscode": {
     "languageId": "r"
    }
   },
   "outputs": [
    {
     "data": {
      "text/plain": [
       "\n",
       "Call:\n",
       "glm2(formula = formula, family = binomial, data = df)\n",
       "\n",
       "Coefficients:\n",
       "                    Estimate Std. Error z value Pr(>|z|)    \n",
       "(Intercept)        -5.222181   0.155654 -33.550  < 2e-16 ***\n",
       "cvd                 1.298584   0.025235  51.460  < 2e-16 ***\n",
       "Sex1                0.203548   0.019637  10.365  < 2e-16 ***\n",
       "Age25-29           -0.012930   0.179822  -0.072    0.943    \n",
       "Age30-34            0.242503   0.162169   1.495    0.135    \n",
       "Age35-39            0.601723   0.154015   3.907 9.35e-05 ***\n",
       "Age40-44            0.885917   0.150567   5.884 4.01e-09 ***\n",
       "Age45-49            1.146344   0.148238   7.733 1.05e-14 ***\n",
       "Age50-54            1.415157   0.146518   9.659  < 2e-16 ***\n",
       "Age55-59            1.525555   0.145860  10.459  < 2e-16 ***\n",
       "Age60-64            1.828774   0.145585  12.562  < 2e-16 ***\n",
       "Age65-69            1.966110   0.145566  13.507  < 2e-16 ***\n",
       "Age70-74            2.146132   0.146324  14.667  < 2e-16 ***\n",
       "Age75-79            2.184707   0.147592  14.802  < 2e-16 ***\n",
       "Age80 or older      2.206327   0.147530  14.955  < 2e-16 ***\n",
       "BMI                 0.093788   0.001691  55.452  < 2e-16 ***\n",
       "healthy_diet       -0.159527   0.029330  -5.439 5.36e-08 ***\n",
       "PhysActivity1      -0.331322   0.021737 -15.242  < 2e-16 ***\n",
       "Smoker1             0.154617   0.019684   7.855 4.00e-15 ***\n",
       "HvyAlcoholConsump1 -0.884910   0.051869 -17.061  < 2e-16 ***\n",
       "NoDocbcCost1        0.384962   0.034525  11.150  < 2e-16 ***\n",
       "---\n",
       "Signif. codes:  0 '***' 0.001 '**' 0.01 '*' 0.05 '.' 0.1 ' ' 1\n",
       "\n",
       "(Dispersion parameter for binomial family taken to be 1)\n",
       "\n",
       "    Null deviance: 78400  on 56553  degrees of freedom\n",
       "Residual deviance: 62968  on 56533  degrees of freedom\n",
       "AIC: 63010\n",
       "\n",
       "Number of Fisher Scoring iterations: 5\n"
      ]
     },
     "metadata": {},
     "output_type": "display_data"
    }
   ],
   "source": [
    "summary(model2)"
   ]
  },
  {
   "cell_type": "code",
   "execution_count": 39,
   "metadata": {
    "vscode": {
     "languageId": "r"
    }
   },
   "outputs": [
    {
     "name": "stderr",
     "output_type": "stream",
     "text": [
      "Waiting for profiling to be done...\n",
      "\n"
     ]
    }
   ],
   "source": [
    "adjusted_odd_ratio <- exp(cbind(OR = coef(model2), confint(model2)))"
   ]
  },
  {
   "cell_type": "code",
   "execution_count": 36,
   "metadata": {
    "vscode": {
     "languageId": "r"
    }
   },
   "outputs": [
    {
     "name": "stdout",
     "output_type": "stream",
     "text": [
      "                            OR     2.5 %       97.5 %\n",
      "(Intercept)        0.005395546 0.0039430  0.007263785\n",
      "cvd                3.664103604 3.4876285  3.850269843\n",
      "Sex1               1.225743964 1.1794727  1.273851180\n",
      "Age25-29           0.987152751 0.6964156  1.410765996\n",
      "Age30-34           1.274435368 0.9332979  1.763963130\n",
      "Age35-39           1.825261770 1.3597358  2.489037173\n",
      "Age40-44           2.425206162 1.8197196  3.286337215\n",
      "Age45-49           3.146667828 2.3725497  4.245801665\n",
      "Age50-54           4.117132699 3.1154131  5.537751159\n",
      "Age55-59           4.597694493 3.4838189  6.176658531\n",
      "Age60-64           6.226247791 4.7205418  8.360313360\n",
      "Age65-69           7.142835950 5.4157036  9.590736133\n",
      "Age70-74           8.551714150 6.4737430 11.498537955\n",
      "Age75-79           8.888046654 6.7107261 11.978772401\n",
      "Age80 or older     9.082292183 6.8583458 12.239274466\n",
      "BMI                1.098327151 1.0947031  1.101985070\n",
      "healthy_diet       0.852547079 0.8048753  0.902947184\n",
      "PhysActivity1      0.717973790 0.6880166  0.749211172\n",
      "Smoker1            1.167210978 1.1230366  1.213121416\n",
      "HvyAlcoholConsump1 0.412751510 0.3726793  0.456718439\n",
      "NoDocbcCost1       1.469558457 1.3735298  1.572588895\n"
     ]
    }
   ],
   "source": [
    "print(adjusted_odd_ratio)"
   ]
  },
  {
   "cell_type": "markdown",
   "metadata": {},
   "source": [
    "- The odds of the outcome are 3.66 times higher for individuals with cardiovascular disease compared to those without cardiovascular disease\n",
    "- There is 23% increase in odds of getting pre-diabetes or diabetes by male compared to female\n",
    "- For age group, \n",
    "    - The odds of the outcome for individuals aged 35-39 are 1.82 times the odds of the individuals aged 18-24\n",
    "    - The odds of the outcome for individuals aged 45-49 are 3.14 times the odds of the individuals aged 18-24\n",
    "- For each one-unit increase in BMI, the odds of the outcome increase by 10%\n",
    "- 15% reduction in odds of outcome by following a healthy diet\n",
    "- 28% drop in odds of outcome by engaging in physical activity\n",
    "- Having ever smoked is associated with a 1.17 times increase in the odds of the outcome\n",
    "- Heavy alcohol consumption is associated with a decrease in the odds of the outcome by 0.41 times\n",
    "- Failing to see a doctor because of money is associated with an increase in the odds of the outcome by 1.47 times"
   ]
  }
 ],
 "metadata": {
  "kernelspec": {
   "display_name": "R",
   "language": "R",
   "name": "ir"
  },
  "language_info": {
   "codemirror_mode": "r",
   "file_extension": ".r",
   "mimetype": "text/x-r-source",
   "name": "R",
   "pygments_lexer": "r",
   "version": "4.3.1"
  }
 },
 "nbformat": 4,
 "nbformat_minor": 2
}
